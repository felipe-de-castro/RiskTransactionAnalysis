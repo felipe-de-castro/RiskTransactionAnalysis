{
 "cells": [
  {
   "cell_type": "markdown",
   "metadata": {
    "application/vnd.databricks.v1+cell": {
     "cellMetadata": {
      "byteLimit": 2048000,
      "rowLimit": 10000
     },
     "inputWidgets": {},
     "nuid": "3094781d-bd05-4a5d-9c31-4fa4eae75fc5",
     "showTitle": false,
     "title": ""
    }
   },
   "source": [
    "**Proposito da análise:**\n",
    "- Buscar conforme os dados disponíveis, comportamentos suspeitos.\n",
    "- Elaborar analise onde é possivel encontrar padrões de fraude, tanto para o pagador quanto recebedor.\n",
    "\n",
    "**Preparando dados para análise**\n",
    "- CSV com dados foi lido e criado dataframe com Pandas\n",
    "- Tabela temporária como View para manipular em SQL foi criada com Spark."
   ]
  },
  {
   "cell_type": "code",
   "execution_count": 0,
   "metadata": {
    "application/vnd.databricks.v1+cell": {
     "cellMetadata": {
      "byteLimit": 2048000,
      "rowLimit": 10000
     },
     "inputWidgets": {},
     "nuid": "c6d7b4ee-4a8b-4a88-bed3-e60ad9b62784",
     "showTitle": false,
     "title": ""
    }
   },
   "outputs": [
    {
     "output_type": "display_data",
     "data": {
      "application/vnd.databricks.v1+bamboolib_hint": "{\"pd.DataFrames\": [], \"version\": \"0.0.1\"}",
      "text/plain": []
     },
     "metadata": {},
     "output_type": "display_data"
    }
   ],
   "source": [
    "#importando biblioteca\n",
    "import pandas as pd\n",
    "import matplotlib.pyplot as plt\n",
    "import seaborn as sns\n",
    "from datetime import datetime\n",
    "import numpy as np\n",
    "\n",
    "\n",
    "#Lendo arquivo csv\n",
    "csv = \"https://raw.githubusercontent.com/felipe-de-castro/RiskTransactionsAnalysis/main/transactioncontentsdata.csv\"\n",
    "df = pd.read_csv(csv)\n",
    "\n",
    "#Gerando Dataframe em spark/ tabela temporaria para SQL\n",
    "spark_df = spark.createDataFrame(df)\n",
    "spark_df.createOrReplaceTempView(\"transactions\")"
   ]
  },
  {
   "cell_type": "code",
   "execution_count": 0,
   "metadata": {
    "application/vnd.databricks.v1+cell": {
     "cellMetadata": {
      "byteLimit": 2048000,
      "rowLimit": 10000
     },
     "inputWidgets": {},
     "nuid": "4e42132c-5044-4624-99b0-954060826276",
     "showTitle": false,
     "title": ""
    }
   },
   "outputs": [],
   "source": [
    "#Tratando a coluna transaction date e criando uma coluna de dias da semana:\n",
    "\n",
    "df['transaction_date'] = pd.to_datetime(df['transaction_date'])\n",
    "\n",
    "# create a new column with the weekday name\n",
    "df['weekday'] = df['transaction_date'].apply(lambda x: x.strftime('%A'))"
   ]
  },
  {
   "cell_type": "markdown",
   "metadata": {
    "application/vnd.databricks.v1+cell": {
     "cellMetadata": {
      "byteLimit": 2048000,
      "rowLimit": 10000
     },
     "inputWidgets": {},
     "nuid": "d317ba38-93b5-4b5d-896d-76f40b25b2c0",
     "showTitle": false,
     "title": ""
    }
   },
   "source": [
    "**Analise métrica de desempenho do negócio**\n",
    "- Ticket médio de transação (com e sem CBK) é de R$ 672,33.\n",
    "- Ticket médio de transações com CBK: R$ 1453,58"
   ]
  },
  {
   "cell_type": "code",
   "execution_count": 0,
   "metadata": {
    "application/vnd.databricks.v1+cell": {
     "cellMetadata": {
      "byteLimit": 2048000,
      "implicitDf": true,
      "rowLimit": 10000
     },
     "inputWidgets": {},
     "nuid": "d3135690-17b7-4482-8bd4-5171045e8106",
     "showTitle": false,
     "title": ""
    }
   },
   "outputs": [
    {
     "output_type": "display_data",
     "data": {
      "text/html": [
       "<style scoped>\n",
       "  .table-result-container {\n",
       "    max-height: 300px;\n",
       "    overflow: auto;\n",
       "  }\n",
       "  table, th, td {\n",
       "    border: 1px solid black;\n",
       "    border-collapse: collapse;\n",
       "  }\n",
       "  th, td {\n",
       "    padding: 5px;\n",
       "  }\n",
       "  th {\n",
       "    text-align: left;\n",
       "  }\n",
       "</style><div class='table-result-container'><table class='table-result'><thead style='background-color: white'><tr><th>tipo</th><th>amount</th><th>porcentagem</th></tr></thead><tbody><tr><td>ticket médio</td><td>767.8129040325103</td><td></td></tr><tr><td>ticket médio chargeback</td><td>1453.5719181585678</td><td>12.222569552985307</td></tr><tr><td>ticket médio completed</td><td>672.3243803418803</td><td>87.7774304470147</td></tr></tbody></table></div>"
      ]
     },
     "metadata": {
      "application/vnd.databricks.v1+output": {
       "addedWidgets": {},
       "aggData": [],
       "aggError": "",
       "aggOverflow": false,
       "aggSchema": [],
       "aggSeriesLimitReached": false,
       "aggType": "",
       "arguments": {},
       "columnCustomDisplayInfos": {},
       "data": [
        [
         "ticket médio",
         767.8129040325103,
         ""
        ],
        [
         "ticket médio chargeback",
         1453.5719181585678,
         "12.222569552985307"
        ],
        [
         "ticket médio completed",
         672.3243803418803,
         "87.7774304470147"
        ]
       ],
       "datasetInfos": [],
       "dbfsResultPath": null,
       "isJsonSchema": true,
       "metadata": {},
       "overflow": false,
       "plotOptions": {
        "customPlotOptions": {},
        "displayType": "table",
        "pivotAggregation": null,
        "pivotColumns": null,
        "xColumns": null,
        "yColumns": null
       },
       "removedWidgets": [],
       "schema": [
        {
         "metadata": "{}",
         "name": "tipo",
         "type": "\"string\""
        },
        {
         "metadata": "{}",
         "name": "amount",
         "type": "\"double\""
        },
        {
         "metadata": "{}",
         "name": "porcentagem",
         "type": "\"string\""
        }
       ],
       "type": "table"
      }
     },
     "output_type": "display_data"
    }
   ],
   "source": [
    "%sql\n",
    "select\n",
    "  \"ticket médio\" as tipo\n",
    "  ,avg(transaction_amount) as amount\n",
    "  ,'' as porcentagem\n",
    "from transactions\n",
    "union \n",
    "select\n",
    "  \"ticket médio chargeback\" as tipo\n",
    "  ,avg(transaction_amount) as amount\n",
    "  ,count(1)/(select count(1) from transactions)*100 as porcentagem\n",
    "from transactions\n",
    "where has_cbk = 'true'\n",
    "union \n",
    "select\n",
    "  \"ticket médio completed\" as tipo\n",
    "  ,avg(transaction_amount) as amount\n",
    "  ,count(1)/(select count(1) from transactions)*100 as porcentagem\n",
    "from transactions\n",
    "where has_cbk = 'false'\n"
   ]
  },
  {
   "cell_type": "markdown",
   "metadata": {
    "application/vnd.databricks.v1+cell": {
     "cellMetadata": {
      "byteLimit": 2048000,
      "rowLimit": 10000
     },
     "inputWidgets": {},
     "nuid": "cbf8a206-ffcb-445f-b57a-b2bfa476db74",
     "showTitle": false,
     "title": ""
    }
   },
   "source": [
    "**Analise focada no quantitativo e valores de Chargeback**\n",
    "\n",
    "- Merchants com os maiores valores de CBK\n",
    "- Merchants com as maiores quantidades de CBK\n",
    "- Payer com os maiores valores de CBK\n",
    "- Payer com as maiores quantidades de CBK"
   ]
  },
  {
   "cell_type": "code",
   "execution_count": 0,
   "metadata": {
    "application/vnd.databricks.v1+cell": {
     "cellMetadata": {
      "byteLimit": 2048000,
      "rowLimit": 10000
     },
     "inputWidgets": {},
     "nuid": "3d0fe355-c8c7-4de0-87e1-487481118bc7",
     "showTitle": false,
     "title": ""
    }
   },
   "outputs": [
    {
     "output_type": "display_data",
     "data": {
      "image/png": "[encoded data removed]"
     },
     "metadata": {
      "application/vnd.databricks.v1+output": {
       "addedWidgets": {},
       "arguments": {},
       "data": "data:image/png;base64,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\n",
       "datasetInfos": [],
       "metadata": {},
       "removedWidgets": [],
       "type": "image"
      }
     },
     "output_type": "display_data"
    }
   ],
   "source": [
    "# Filter the dataframe to include only rows where has_cbk is true\n",
    "df_cbk = df[df['has_cbk'] == True]\n",
    "\n",
    "# Get the top 5 merchant_id with has_cbk = true\n",
    "top_merchants = df_cbk['merchant_id'].value_counts().nlargest(15).index.tolist()\n",
    "\n",
    "# Filter the dataframe to include only rows where merchant_id is in the top 5 and has_cbk is true or false\n",
    "df_top_merchants = df[df['merchant_id'].isin(top_merchants) & df['has_cbk'].isin([True, False])]\n",
    "\n",
    "#figure size\n",
    "plt.figure(figsize=(15,5))\n",
    "\n",
    "#Title of the graph\n",
    "plt.title('Top 10 Merchants with most charback per Count')\n",
    "\n",
    "# Create the bar graph\n",
    "sns_plot = sns.countplot(x='merchant_id', hue='has_cbk', data=df_top_merchants, order=top_merchants)\n",
    "\n",
    "# Add labels to each bar\n",
    "for p in sns_plot.patches:\n",
    "    sns_plot.annotate(format(p.get_height(), '.0f'), \n",
    "                      (p.get_x() + p.get_width() / 2., p.get_height()), \n",
    "                      ha = 'center', va = 'center', \n",
    "                      xytext = (0, 9), \n",
    "                      textcoords = 'offset points');"
   ]
  },
  {
   "cell_type": "code",
   "execution_count": 0,
   "metadata": {
    "application/vnd.databricks.v1+cell": {
     "cellMetadata": {
      "byteLimit": 2048000,
      "rowLimit": 10000
     },
     "inputWidgets": {},
     "nuid": "7287e87e-ad46-492a-98c4-973bd0bea815",
     "showTitle": false,
     "title": ""
    }
   },
   "outputs": [
    {
     "output_type": "display_data",
     "data": {
      "image/png": "[encoded data removed]"
     },
     "metadata": {
      "application/vnd.databricks.v1+output": {
       "addedWidgets": {},
       "arguments": {},
       "data": "data:image/png;base64,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\n",
       "datasetInfos": [],
       "metadata": {},
       "removedWidgets": [],
       "type": "image"
      }
     },
     "output_type": "display_data"
    }
   ],
   "source": [
    "# Get the top 5 merchant_id with has_cbk = true\n",
    "top_merchants = df_cbk.groupby(['merchant_id'])['transaction_amount'].sum().nlargest(15).index.tolist()\n",
    "\n",
    "# Filter the dataframe to include only rows where merchant_id is in the top 5 and has_cbk is true or false\n",
    "df_top_merchants = df[df['merchant_id'].isin(top_merchants) & df['has_cbk'].isin([True, False])]\n",
    "\n",
    "# Modify the Figure size\n",
    "plt.figure(figsize=(15,5))\n",
    "\n",
    "#Title of the graph\n",
    "plt.title('Top 10 Merchants with most charback per Sum')\n",
    "\n",
    "# Create the bar graph\n",
    "sns_plot = sns.barplot(x='merchant_id', y='transaction_amount', hue='has_cbk', data=df_top_merchants, estimator=sum, order=top_merchants)\n",
    "\n",
    "# Add labels to each bar\n",
    "for p in sns_plot.patches:\n",
    "    sns_plot.annotate(format(p.get_height(), '.2f'), \n",
    "                      (p.get_x() + p.get_width() / 2., p.get_height()), \n",
    "                      ha = 'center', va = 'center', \n",
    "                      xytext = (0, 9), \n",
    "                      textcoords = 'offset points');"
   ]
  },
  {
   "cell_type": "code",
   "execution_count": 0,
   "metadata": {
    "application/vnd.databricks.v1+cell": {
     "cellMetadata": {
      "byteLimit": 2048000,
      "rowLimit": 10000
     },
     "inputWidgets": {},
     "nuid": "a58ef841-0360-47d7-bf60-159b8ed8c032",
     "showTitle": false,
     "title": ""
    }
   },
   "outputs": [
    {
     "output_type": "display_data",
     "data": {
      "image/png": "[encoded data removed]"
     },
     "metadata": {
      "application/vnd.databricks.v1+output": {
       "addedWidgets": {},
       "arguments": {},
       "data": "data:image/png;base64,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\n",
       "datasetInfos": [],
       "metadata": {},
       "removedWidgets": [],
       "type": "image"
      }
     },
     "output_type": "display_data"
    }
   ],
   "source": [
    "# Filter the dataframe to include only rows where has_cbk is true\n",
    "df_cbk = df[df['has_cbk'] == True]\n",
    "\n",
    "# Get the top 5 merchant_id with has_cbk = true\n",
    "top_users = df_cbk['user_id'].value_counts().nlargest(15).index.tolist()\n",
    "\n",
    "# Filter the dataframe to include only rows where merchant_id is in the top 5 and has_cbk is true or false\n",
    "df_top_users = df[df['user_id'].isin(top_users) & df['has_cbk'].isin([True, False])]\n",
    "\n",
    "#figure size\n",
    "plt.figure(figsize=(15,5))\n",
    "\n",
    "#Title of the graph\n",
    "plt.title('Top 10 Users with most charback per Count')\n",
    "\n",
    "# Create the bar graph\n",
    "sns_plot = sns.countplot(x='user_id', hue='has_cbk', data=df_top_users, order=top_users)\n",
    "\n",
    "# Add labels to each bar\n",
    "for p in sns_plot.patches:\n",
    "    sns_plot.annotate(format(p.get_height(), '.0f'), \n",
    "                      (p.get_x() + p.get_width() / 2., p.get_height()), \n",
    "                      ha = 'center', va = 'center', \n",
    "                      xytext = (0, 9), \n",
    "                      textcoords = 'offset points');"
   ]
  },
  {
   "cell_type": "code",
   "execution_count": 0,
   "metadata": {
    "application/vnd.databricks.v1+cell": {
     "cellMetadata": {
      "byteLimit": 2048000,
      "rowLimit": 10000
     },
     "inputWidgets": {},
     "nuid": "4d4bfc05-89c4-4bd8-9cbe-ef9bd4f76117",
     "showTitle": false,
     "title": ""
    }
   },
   "outputs": [
    {
     "output_type": "display_data",
     "data": {
      "image/png": "[encoded data removed]"
     },
     "metadata": {
      "application/vnd.databricks.v1+output": {
       "addedWidgets": {},
       "arguments": {},
       "data": "data:image/png;base64,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\n",
       "datasetInfos": [],
       "metadata": {},
       "removedWidgets": [],
       "type": "image"
      }
     },
     "output_type": "display_data"
    }
   ],
   "source": [
    "# Get the top 5 merchant_id with has_cbk = true\n",
    "top_users = df_cbk.groupby(['user_id'])['transaction_amount'].sum().nlargest(15).index.tolist()\n",
    "\n",
    "# Filter the dataframe to include only rows where merchant_id is in the top 5 and has_cbk is true or false\n",
    "df_top_users = df[df['user_id'].isin(top_users) & df['has_cbk'].isin([True, False])]\n",
    "\n",
    "# Modify the Figure size\n",
    "plt.figure(figsize=(15,5))\n",
    "\n",
    "#Title of the graph\n",
    "plt.title('Top 10 Users with most charback per Sum')\n",
    "\n",
    "# Create the bar graph\n",
    "sns_plot = sns.barplot(x='user_id', y='transaction_amount', hue='has_cbk', data=df_top_users, estimator=sum, order=top_users)\n",
    "\n",
    "# Add labels to each bar\n",
    "for p in sns_plot.patches:\n",
    "    sns_plot.annotate(format(p.get_height(), '.2f'), \n",
    "                      (p.get_x() + p.get_width() / 2., p.get_height()), \n",
    "                      ha = 'center', va = 'center', \n",
    "                      xytext = (0, 9), \n",
    "                      textcoords = 'offset points');"
   ]
  },
  {
   "cell_type": "markdown",
   "metadata": {
    "application/vnd.databricks.v1+cell": {
     "cellMetadata": {
      "byteLimit": 2048000,
      "rowLimit": 10000
     },
     "inputWidgets": {},
     "nuid": "9346df0a-aab9-4f5e-b6c0-721284130006",
     "showTitle": false,
     "title": ""
    }
   },
   "source": [
    "**Análise sobre distribuição de chargeback por Dia da Semana.**"
   ]
  },
  {
   "cell_type": "code",
   "execution_count": 0,
   "metadata": {
    "application/vnd.databricks.v1+cell": {
     "cellMetadata": {
      "byteLimit": 2048000,
      "rowLimit": 10000
     },
     "inputWidgets": {},
     "nuid": "0a0b58c3-f4ef-4ff4-aedf-e388b8ae48b0",
     "showTitle": false,
     "title": ""
    }
   },
   "outputs": [],
   "source": [
    "#Duvida sobre utilizar boxplot ou scatter\n",
    "\n",
    "#plt.figure(figsize=(10,5))\n",
    "#sns.boxplot(data=df_cbk, x='weekday', y='transaction_amount')\n",
    "\n"
   ]
  },
  {
   "cell_type": "code",
   "execution_count": 0,
   "metadata": {
    "application/vnd.databricks.v1+cell": {
     "cellMetadata": {
      "byteLimit": 2048000,
      "rowLimit": 10000
     },
     "inputWidgets": {},
     "nuid": "14faa766-66af-4cb9-bcd2-160fb2942cc9",
     "showTitle": false,
     "title": ""
    }
   },
   "outputs": [
    {
     "output_type": "stream",
     "name": "stdout",
     "output_type": "stream",
     "text": [
      "Out[59]: <matplotlib.legend.Legend at 0x7f8245cf76a0>"
     ]
    },
    {
     "output_type": "display_data",
     "data": {
      "image/png": "[encoded data removed]"
     },
     "metadata": {
      "application/vnd.databricks.v1+output": {
       "addedWidgets": {},
       "arguments": {},
       "data": "data:image/png;base64,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\n",
       "datasetInfos": [],
       "metadata": {},
       "removedWidgets": [],
       "type": "image"
      }
     },
     "output_type": "display_data"
    }
   ],
   "source": [
    "# Relação da distruição de chargeback por Dia da Semana.\n",
    "plt.figure(figsize=(10,7))\n",
    "ax = sns.scatterplot(data=df_cbk, x='weekday', y='transaction_amount', hue='transaction_amount', \n",
    "                size='transaction_amount',\n",
    "               sizes=(20, 200));\n",
    "\n",
    "ax.legend(loc='center left', bbox_to_anchor=(1.0, 0.5))"
   ]
  },
  {
   "cell_type": "markdown",
   "metadata": {
    "application/vnd.databricks.v1+cell": {
     "cellMetadata": {
      "byteLimit": 2048000,
      "rowLimit": 10000
     },
     "inputWidgets": {},
     "nuid": "db0d4f34-a093-45d5-bf40-1a5e7cf678e1",
     "showTitle": false,
     "title": ""
    }
   },
   "source": [
    "**Relação de distribuição de chargeback por periodo do dia.**\n",
    "\n",
    "Ao analisar a ocorrencia de distribuição dos chargeback por hora durante o dia, foi possivel identificar periodo Vespertino e Norturno são os horário com as maior ocorrencia de fraude. </br>\n",
    "Sendo assim, podemos observar que tais períodos são aqueles que possuem maior intenção de fraude e vunerabilidade."
   ]
  },
  {
   "cell_type": "code",
   "execution_count": 0,
   "metadata": {
    "application/vnd.databricks.v1+cell": {
     "cellMetadata": {
      "byteLimit": 2048000,
      "rowLimit": 10000
     },
     "inputWidgets": {},
     "nuid": "1d8735b3-aa3a-4e87-b154-bf956a3e7023",
     "showTitle": false,
     "title": ""
    }
   },
   "outputs": [
    {
     "output_type": "stream",
     "name": "stdout",
     "output_type": "stream",
     "text": [
      "<command-2036127121810916>:8: SettingWithCopyWarning: \nA value is trying to be set on a copy of a slice from a DataFrame.\nTry using .loc[row_indexer,col_indexer] = value instead\n\nSee the caveats in the documentation: https://pandas.pydata.org/pandas-docs/stable/user_guide/indexing.html#returning-a-view-versus-a-copy\n  df_cbk['hour'] = pd.to_datetime(df_cbk['transaction_date']).dt.hour\n"
     ]
    },
    {
     "output_type": "display_data",
     "data": {
      "image/png": "[encoded data removed]"
     },
     "metadata": {
      "application/vnd.databricks.v1+output": {
       "addedWidgets": {},
       "arguments": {},
       "data": "data:image/png;base64,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\n",
       "datasetInfos": [],
       "metadata": {},
       "removedWidgets": [],
       "type": "image"
      }
     },
     "output_type": "display_data"
    }
   ],
   "source": [
    "# Measuring the distribution of transaction per hour of the day.\n",
    "# It shows which part of the day the frauds occur\n",
    "\n",
    "\n",
    "df_cbk = df[df['has_cbk'] == True]\n",
    "\n",
    "# Extract the hour information from the 'transaction_date' column and create a new column to store it\n",
    "df_cbk['hour'] = pd.to_datetime(df_cbk['transaction_date']).dt.hour\n",
    "\n",
    "# Create a histogram using the hour information as the x-axis and the count of rows as the y-axis\n",
    "plt.hist(df_cbk['hour'], bins=24, edgecolor='black')\n",
    "\n",
    "# Label the plot axis and title for better understanding\n",
    "plt.xlabel('Hour of the Day')\n",
    "plt.ylabel('Count of Transactions')\n",
    "plt.title('Distribution of has_cbk=True Transactions over 24 Hours');"
   ]
  },
  {
   "cell_type": "markdown",
   "metadata": {
    "application/vnd.databricks.v1+cell": {
     "cellMetadata": {
      "byteLimit": 2048000,
      "rowLimit": 10000
     },
     "inputWidgets": {},
     "nuid": "71311230-85d8-482a-a09b-99cf6804559c",
     "showTitle": false,
     "title": ""
    }
   },
   "source": [
    "**Avaliando o comportamento do user_id em relação a alternância de dispositivo.**\n",
    "\n",
    "Nesta análise busca-se averiguar o comportamento do user por dia de uso, onde é possivel identificar a possibilidade de alternancia de dispostivo para realizar transações e posteriomente contestá-la.</br>\n",
    "A ideia é o user_id possa estar agindo de má-fé, acreditando que ao realizar tal alternancia estária 'driblando' a verificação de fraude cruzando com seu identificador."
   ]
  },
  {
   "cell_type": "code",
   "execution_count": 0,
   "metadata": {
    "application/vnd.databricks.v1+cell": {
     "cellMetadata": {
      "byteLimit": 2048000,
      "implicitDf": true,
      "rowLimit": 10000
     },
     "inputWidgets": {},
     "nuid": "c7e4a5ea-ef33-4075-afb1-c4ca90e57026",
     "showTitle": false,
     "title": ""
    }
   },
   "outputs": [
    {
     "output_type": "display_data",
     "data": {
      "text/html": [
       "<style scoped>\n",
       "  .table-result-container {\n",
       "    max-height: 300px;\n",
       "    overflow: auto;\n",
       "  }\n",
       "  table, th, td {\n",
       "    border: 1px solid black;\n",
       "    border-collapse: collapse;\n",
       "  }\n",
       "  th, td {\n",
       "    padding: 5px;\n",
       "  }\n",
       "  th {\n",
       "    text-align: left;\n",
       "  }\n",
       "</style><div class='table-result-container'><table class='table-result'><thead style='background-color: white'><tr><th>user_id</th><th>transaction_date</th><th>device_id</th><th>device_sequence</th></tr></thead><tbody><tr><td>11750</td><td>2019-11-22</td><td>542535.0</td><td>1</td></tr><tr><td>11750</td><td>2019-11-23</td><td>670695.0</td><td>1</td></tr><tr><td>11750</td><td>2019-11-23</td><td>542535.0</td><td>2</td></tr><tr><td>11750</td><td>2019-11-25</td><td>670695.0</td><td>1</td></tr><tr><td>11750</td><td>2019-11-25</td><td>542535.0</td><td>2</td></tr><tr><td>11750</td><td>2019-11-26</td><td>542535.0</td><td>1</td></tr><tr><td>11750</td><td>2019-11-27</td><td>342890.0</td><td>1</td></tr><tr><td>11750</td><td>2019-11-27</td><td>542535.0</td><td>2</td></tr><tr><td>11750</td><td>2019-11-28</td><td>342890.0</td><td>1</td></tr><tr><td>11750</td><td>2019-11-28</td><td>542535.0</td><td>2</td></tr><tr><td>11750</td><td>2019-11-29</td><td>670695.0</td><td>1</td></tr><tr><td>11750</td><td>2019-11-29</td><td>342890.0</td><td>2</td></tr><tr><td>11750</td><td>2019-11-29</td><td>342890.0</td><td>2</td></tr><tr><td>11750</td><td>2019-11-30</td><td>342890.0</td><td>1</td></tr><tr><td>11750</td><td>2019-11-30</td><td>670695.0</td><td>2</td></tr><tr><td>11750</td><td>2019-11-30</td><td>342890.0</td><td>3</td></tr><tr><td>11750</td><td>2019-11-30</td><td>342890.0</td><td>3</td></tr><tr><td>11750</td><td>2019-11-30</td><td>342890.0</td><td>3</td></tr><tr><td>11750</td><td>2019-11-30</td><td>342890.0</td><td>3</td></tr><tr><td>11750</td><td>2019-12-01</td><td>342890.0</td><td>1</td></tr><tr><td>11750</td><td>2019-12-01</td><td>342890.0</td><td>1</td></tr><tr><td>11750</td><td>2019-12-01</td><td>342890.0</td><td>1</td></tr><tr><td>11750</td><td>2019-12-01</td><td>342890.0</td><td>1</td></tr><tr><td>11750</td><td>2019-12-01</td><td>342890.0</td><td>1</td></tr><tr><td>11750</td><td>2019-12-01</td><td>342890.0</td><td>1</td></tr></tbody></table></div>"
      ]
     },
     "metadata": {
      "application/vnd.databricks.v1+output": {
       "addedWidgets": {},
       "aggData": [],
       "aggError": "",
       "aggOverflow": false,
       "aggSchema": [],
       "aggSeriesLimitReached": false,
       "aggType": "",
       "arguments": {},
       "columnCustomDisplayInfos": {},
       "data": [
        [
         11750,
         "2019-11-22",
         542535.0,
         1
        ],
        [
         11750,
         "2019-11-23",
         670695.0,
         1
        ],
        [
         11750,
         "2019-11-23",
         542535.0,
         2
        ],
        [
         11750,
         "2019-11-25",
         670695.0,
         1
        ],
        [
         11750,
         "2019-11-25",
         542535.0,
         2
        ],
        [
         11750,
         "2019-11-26",
         542535.0,
         1
        ],
        [
         11750,
         "2019-11-27",
         342890.0,
         1
        ],
        [
         11750,
         "2019-11-27",
         542535.0,
         2
        ],
        [
         11750,
         "2019-11-28",
         342890.0,
         1
        ],
        [
         11750,
         "2019-11-28",
         542535.0,
         2
        ],
        [
         11750,
         "2019-11-29",
         670695.0,
         1
        ],
        [
         11750,
         "2019-11-29",
         342890.0,
         2
        ],
        [
         11750,
         "2019-11-29",
         342890.0,
         2
        ],
        [
         11750,
         "2019-11-30",
         342890.0,
         1
        ],
        [
         11750,
         "2019-11-30",
         670695.0,
         2
        ],
        [
         11750,
         "2019-11-30",
         342890.0,
         3
        ],
        [
         11750,
         "2019-11-30",
         342890.0,
         3
        ],
        [
         11750,
         "2019-11-30",
         342890.0,
         3
        ],
        [
         11750,
         "2019-11-30",
         342890.0,
         3
        ],
        [
         11750,
         "2019-12-01",
         342890.0,
         1
        ],
        [
         11750,
         "2019-12-01",
         342890.0,
         1
        ],
        [
         11750,
         "2019-12-01",
         342890.0,
         1
        ],
        [
         11750,
         "2019-12-01",
         342890.0,
         1
        ],
        [
         11750,
         "2019-12-01",
         342890.0,
         1
        ],
        [
         11750,
         "2019-12-01",
         342890.0,
         1
        ]
       ],
       "datasetInfos": [],
       "dbfsResultPath": null,
       "isJsonSchema": true,
       "metadata": {},
       "overflow": false,
       "plotOptions": {
        "customPlotOptions": {},
        "displayType": "table",
        "pivotAggregation": null,
        "pivotColumns": null,
        "xColumns": null,
        "yColumns": null
       },
       "removedWidgets": [],
       "schema": [
        {
         "metadata": "{}",
         "name": "user_id",
         "type": "\"long\""
        },
        {
         "metadata": "{}",
         "name": "transaction_date",
         "type": "\"date\""
        },
        {
         "metadata": "{}",
         "name": "device_id",
         "type": "\"double\""
        },
        {
         "metadata": "{}",
         "name": "device_sequence",
         "type": "\"long\""
        }
       ],
       "type": "table"
      }
     },
     "output_type": "display_data"
    },
    {
     "output_type": "display_data",
     "data": {
      "text/plain": [
       "Databricks visualization. Run in Databricks to view."
      ]
     },
     "metadata": {
      "application/vnd.databricks.v1.subcommand+json": {
       "bindings": {},
       "collapsed": false,
       "command": "%sql WITH q AS (with cte as (\nSELECT \n  user_id \n  ,DATE(transaction_date) \n  ,device_id \n  ,SUM(CASE WHEN device_id != lag(device_id) OVER (PARTITION BY user_id, date(transaction_date)  ORDER BY transaction_date asc) THEN 1 ELSE 0 END) \n        OVER (PARTITION BY user_id, date(transaction_date) ORDER BY transaction_date ) + 1 AS device_sequence \nFROM \n  transactions\n  where 1=1\n  and has_cbk = 'true'\n  \n  \n  \n\n)\n  select\n    user_id, transaction_date, device_id, device_sequence\n  from cte\n  where user_id in (11750)) SELECT `transaction_date`,COUNT(DISTINCT `device_sequence`) `column_85f0493d5`,`user_id` FROM q GROUP BY `transaction_date`,`user_id`",
       "commandTitle": "Visualization 1",
       "commandType": "auto",
       "commandVersion": 0,
       "commentThread": [],
       "commentsVisible": false,
       "contentSha256Hex": null,
       "customPlotOptions": {
        "redashChart": [
         {
          "key": "type",
          "value": "CHART"
         },
         {
          "key": "options",
          "value": {
           "alignYAxesAtZero": true,
           "coefficient": 1,
           "columnConfigurationMap": {
            "series": {
             "column": "user_id",
             "id": "column_85f0493d3"
            },
            "x": {
             "column": "transaction_date",
             "id": "column_85f0493d2"
            },
            "y": [
             {
              "column": "device_sequence",
              "id": "column_85f0493d5",
              "transform": "COUNT_DISTINCT"
             }
            ]
           },
           "dateTimeFormat": "DD/MM/YYYY HH:mm",
           "direction": {
            "type": "counterclockwise"
           },
           "error_y": {
            "type": "data",
            "visible": true
           },
           "globalSeriesType": "column",
           "isAggregationOn": true,
           "legend": {
            "traceorder": "normal"
           },
           "missingValuesAsZero": true,
           "numberFormat": "0,0[.]00000",
           "percentFormat": "0[.]00%",
           "series": {
            "error_y": {
             "type": "data",
             "visible": true
            },
            "stacking": null
           },
           "seriesOptions": {
            "column_85f0493d5": {
             "type": "column",
             "yAxis": 0
            }
           },
           "showDataLabels": false,
           "sizemode": "diameter",
           "sortX": true,
           "sortY": true,
           "swappedAxes": false,
           "textFormat": "",
           "useAggregationsUi": true,
           "valuesOptions": {},
           "version": 2,
           "xAxis": {
            "labels": {
             "enabled": true
            },
            "type": "-"
           },
           "yAxis": [
            {
             "type": "-"
            },
            {
             "opposite": true,
             "type": "-"
            }
           ]
          }
         }
        ]
       },
       "datasetPreviewNameToCmdIdMap": {},
       "diffDeletes": [],
       "diffInserts": [],
       "displayType": "redashChart",
       "error": null,
       "errorSummary": null,
       "errorTraceType": null,
       "finishTime": 0,
       "globalVars": {},
       "guid": "8b9c8ee5-2b7e-4bfa-8269-cc186677c053",
       "height": "auto",
       "hideCommandCode": false,
       "hideCommandResult": false,
       "iPythonMetadata": null,
       "inputWidgets": {},
       "isLockedInExamMode": false,
       "latestUser": "a user",
       "latestUserId": null,
       "listResultMetadata": null,
       "metadata": {
        "byteLimit": 2048000,
        "implicitDf": true,
        "rowLimit": 10000
       },
       "nuid": "88fa1597-ab16-4fe0-ab12-3847a1406990",
       "origId": 2801181239341944,
       "parentHierarchy": [
        "f234790a-b574-464d-9ed4-9daff0cc1ba5"
       ],
       "pivotAggregation": null,
       "pivotColumns": null,
       "position": 18.125,
       "resultDbfsErrorMessage": null,
       "resultDbfsStatus": "INLINED_IN_TREE",
       "results": null,
       "showCommandTitle": false,
       "startTime": 0,
       "state": "finished",
       "streamStates": {},
       "subcommandOptions": {
        "queryPlan": {
         "groups": [
          {
           "column": "transaction_date",
           "type": "column"
          },
          {
           "column": "user_id",
           "type": "column"
          }
         ],
         "selects": [
          {
           "column": "transaction_date",
           "type": "column"
          },
          {
           "alias": "column_85f0493d5",
           "args": [
            {
             "column": "device_sequence",
             "type": "column"
            }
           ],
           "function": "COUNT_DISTINCT",
           "type": "function"
          },
          {
           "column": "user_id",
           "type": "column"
          }
         ]
        }
       },
       "submitTime": 0,
       "subtype": "tableResultSubCmd.visualization",
       "tableResultIndex": 0,
       "useConsistentColors": false,
       "version": "CommandV1",
       "width": "auto",
       "workflows": [],
       "xColumns": null,
       "yColumns": null
      }
     },
     "output_type": "display_data"
    }
   ],
   "source": [
    " %sql\n",
    "\n",
    "-- Avaliando comportamento do USER_ID em relação a alternância de dispositivos.\n",
    "\n",
    "with cte as (\n",
    "SELECT \n",
    "  user_id \n",
    "  ,DATE(transaction_date) \n",
    "  ,device_id \n",
    "  ,SUM(CASE WHEN device_id != lag(device_id) OVER (PARTITION BY user_id, date(transaction_date)  ORDER BY transaction_date asc) THEN 1 ELSE 0 END) \n",
    "        OVER (PARTITION BY user_id, date(transaction_date) ORDER BY transaction_date ) + 1 AS device_sequence \n",
    "FROM \n",
    "  transactions\n",
    "  where 1=1\n",
    "  and has_cbk = 'true'\n",
    "  --ORDER BY \n",
    "  --date(transaction_date) asc \n",
    "  -- device_sequence\n",
    "\n",
    ")\n",
    "  select\n",
    "    user_id, transaction_date, device_id, device_sequence\n",
    "  from cte\n",
    "  where user_id in (11750) --TESTING WITH UM USER_ID\n",
    "  --order by devices_perday desc\n",
    ";\n",
    "--  (11750)\n",
    "-- (78262, 79054, 96025, 17929, 91637, 11750, 67519, 27657, 73385, 7725)\n",
    "-- https://stackoverflow.com/questions/60627676/how-to-use-countdistinct-using-a-window-function-in-spark-scala"
   ]
  },
  {
   "cell_type": "markdown",
   "metadata": {
    "application/vnd.databricks.v1+cell": {
     "cellMetadata": {
      "byteLimit": 2048000,
      "rowLimit": 10000
     },
     "inputWidgets": {},
     "nuid": "e005970b-74be-40f3-b387-4a822cc00507",
     "showTitle": false,
     "title": ""
    }
   },
   "source": [
    "**Avaliando o risco por quantidade de cartões utilizados**\n",
    "\n",
    "Gerando um parametro de validação de risco por quantidade de cartões por usuario e no dia de uso, independente do merchant. </br>\n",
    "Assim, mesmo que tenha feito diversos pagamentos para dois merchants, utilizando 6 cartões (3 para cada merchant), acusaria um índice alto de insegurança."
   ]
  },
  {
   "cell_type": "code",
   "execution_count": 0,
   "metadata": {
    "application/vnd.databricks.v1+cell": {
     "cellMetadata": {
      "byteLimit": 2048000,
      "implicitDf": true,
      "rowLimit": 10000
     },
     "inputWidgets": {},
     "nuid": "86698d4e-5338-4e4a-b03f-c377ebe9b7e9",
     "showTitle": false,
     "title": ""
    }
   },
   "outputs": [
    {
     "output_type": "display_data",
     "data": {
      "text/html": [
       "<style scoped>\n",
       "  .table-result-container {\n",
       "    max-height: 300px;\n",
       "    overflow: auto;\n",
       "  }\n",
       "  table, th, td {\n",
       "    border: 1px solid black;\n",
       "    border-collapse: collapse;\n",
       "  }\n",
       "  th, td {\n",
       "    padding: 5px;\n",
       "  }\n",
       "  th {\n",
       "    text-align: left;\n",
       "  }\n",
       "</style><div class='table-result-container'><table class='table-result'><thead style='background-color: white'><tr><th>merchant_id</th><th>user_id</th><th>transaction_date</th><th>card_number</th><th>range_alert_cards</th></tr></thead><tbody><tr><td>53041</td><td>900</td><td>2019-11-22</td><td>412177******1138</td><td>low</td></tr><tr><td>92895</td><td>2708</td><td>2019-12-01</td><td>444456******4210</td><td>low</td></tr><tr><td>62194</td><td>3157</td><td>2019-12-01</td><td>535081******2584</td><td>low</td></tr><tr><td>55854</td><td>3584</td><td>2019-11-27</td><td>544731******9913</td><td>mid</td></tr><tr><td>55854</td><td>3584</td><td>2019-11-27</td><td>544731******7164</td><td>mid</td></tr><tr><td>55854</td><td>3584</td><td>2019-11-27</td><td>544731******7164</td><td>mid</td></tr><tr><td>55854</td><td>3584</td><td>2019-11-27</td><td>544731******7164</td><td>mid</td></tr><tr><td>38337</td><td>4651</td><td>2019-11-22</td><td>230744******4802</td><td>low</td></tr><tr><td>38337</td><td>4651</td><td>2019-11-22</td><td>230744******4802</td><td>low</td></tr><tr><td>63050</td><td>4651</td><td>2019-11-29</td><td>606282******4880</td><td>low</td></tr><tr><td>94198</td><td>4744</td><td>2019-11-26</td><td>422061******5068</td><td>low</td></tr><tr><td>53816</td><td>5541</td><td>2019-12-01</td><td>606282******3381</td><td>mid</td></tr><tr><td>11470</td><td>5541</td><td>2019-12-01</td><td>606282******3381</td><td>mid</td></tr><tr><td>49710</td><td>5541</td><td>2019-12-01</td><td>606282******3381</td><td>mid</td></tr><tr><td>38755</td><td>6761</td><td>2019-11-28</td><td>552693******2902</td><td>low</td></tr><tr><td>38755</td><td>6761</td><td>2019-11-29</td><td>552693******2902</td><td>low</td></tr><tr><td>38755</td><td>6761</td><td>2019-11-29</td><td>552693******2902</td><td>low</td></tr><tr><td>38901</td><td>7281</td><td>2019-11-29</td><td>554463******2136</td><td>low</td></tr><tr><td>17275</td><td>7695</td><td>2019-11-28</td><td>406655******8833</td><td>low</td></tr><tr><td>17275</td><td>7695</td><td>2019-11-29</td><td>453211******6587</td><td>low</td></tr><tr><td>17275</td><td>7695</td><td>2019-11-30</td><td>536537******7142</td><td>low</td></tr><tr><td>17275</td><td>7695</td><td>2019-12-01</td><td>453211******7840</td><td>low</td></tr><tr><td>73271</td><td>7725</td><td>2019-11-28</td><td>546479******9950</td><td>low</td></tr><tr><td>73271</td><td>7725</td><td>2019-11-28</td><td>455182******4775</td><td>low</td></tr><tr><td>73271</td><td>7725</td><td>2019-11-29</td><td>520405******5073</td><td>mid</td></tr><tr><td>73271</td><td>7725</td><td>2019-11-29</td><td>520405******5073</td><td>mid</td></tr><tr><td>73271</td><td>7725</td><td>2019-11-29</td><td>459315******2643</td><td>mid</td></tr><tr><td>73271</td><td>7725</td><td>2019-11-30</td><td>489391******7420</td><td>low</td></tr><tr><td>73271</td><td>7725</td><td>2019-12-01</td><td>489391******7420</td><td>low</td></tr><tr><td>73205</td><td>8743</td><td>2019-11-28</td><td>553096******7832</td><td>low</td></tr><tr><td>91972</td><td>8761</td><td>2019-11-15</td><td>410863******4853</td><td>low</td></tr><tr><td>74211</td><td>9600</td><td>2019-11-23</td><td>549167******6788</td><td>low</td></tr><tr><td>74211</td><td>9600</td><td>2019-11-23</td><td>470598******9351</td><td>low</td></tr><tr><td>71378</td><td>9853</td><td>2019-11-22</td><td>527407******8091</td><td>mid</td></tr><tr><td>71378</td><td>9853</td><td>2019-11-22</td><td>527407******8091</td><td>mid</td></tr><tr><td>71378</td><td>9853</td><td>2019-11-22</td><td>527407******8091</td><td>mid</td></tr><tr><td>46609</td><td>9853</td><td>2019-11-28</td><td>441524******2262</td><td>low</td></tr><tr><td>68953</td><td>10241</td><td>2019-12-01</td><td>533728******5576</td><td>low</td></tr><tr><td>46045</td><td>10378</td><td>2019-11-28</td><td>415944******1540</td><td>low</td></tr><tr><td>46045</td><td>10378</td><td>2019-11-28</td><td>415944******1540</td><td>low</td></tr><tr><td>42356</td><td>11065</td><td>2019-11-27</td><td>423072******8950</td><td>low</td></tr><tr><td>42356</td><td>11065</td><td>2019-11-27</td><td>498408******4290</td><td>low</td></tr><tr><td>42356</td><td>11065</td><td>2019-11-28</td><td>423072******8950</td><td>low</td></tr><tr><td>42356</td><td>11065</td><td>2019-11-28</td><td>423072******8950</td><td>low</td></tr><tr><td>53041</td><td>11452</td><td>2019-11-18</td><td>427167******3020</td><td>low</td></tr><tr><td>53041</td><td>11452</td><td>2019-11-21</td><td>470598******2152</td><td>low</td></tr><tr><td>60779</td><td>11452</td><td>2019-11-22</td><td>470598******2152</td><td>low</td></tr><tr><td>17275</td><td>11750</td><td>2019-11-22</td><td>498401******9945</td><td>low</td></tr><tr><td>17275</td><td>11750</td><td>2019-11-23</td><td>498401******1451</td><td>low</td></tr><tr><td>17275</td><td>11750</td><td>2019-11-23</td><td>498401******6342</td><td>low</td></tr><tr><td>17275</td><td>11750</td><td>2019-11-25</td><td>406655******2518</td><td>low</td></tr><tr><td>17275</td><td>11750</td><td>2019-11-25</td><td>453211******8383</td><td>low</td></tr><tr><td>17275</td><td>11750</td><td>2019-11-26</td><td>453211******4180</td><td>low</td></tr><tr><td>17275</td><td>11750</td><td>2019-11-27</td><td>453211******8930</td><td>low</td></tr><tr><td>17275</td><td>11750</td><td>2019-11-27</td><td>406655******4017</td><td>low</td></tr><tr><td>17275</td><td>11750</td><td>2019-11-28</td><td>406655******9187</td><td>low</td></tr><tr><td>17275</td><td>11750</td><td>2019-11-28</td><td>406655******8913</td><td>low</td></tr><tr><td>17275</td><td>11750</td><td>2019-11-29</td><td>453211******7385</td><td>mid</td></tr><tr><td>17275</td><td>11750</td><td>2019-11-29</td><td>453211******8822</td><td>mid</td></tr><tr><td>17275</td><td>11750</td><td>2019-11-29</td><td>403002******5770</td><td>mid</td></tr><tr><td>66876</td><td>11750</td><td>2019-11-30</td><td>453211******7546</td><td>extra</td></tr><tr><td>66876</td><td>11750</td><td>2019-11-30</td><td>453211******4433</td><td>extra</td></tr><tr><td>66876</td><td>11750</td><td>2019-11-30</td><td>453211******8177</td><td>extra</td></tr><tr><td>66876</td><td>11750</td><td>2019-11-30</td><td>536537******9148</td><td>extra</td></tr><tr><td>17275</td><td>11750</td><td>2019-11-30</td><td>536537******5153</td><td>extra</td></tr><tr><td>17275</td><td>11750</td><td>2019-11-30</td><td>536537******7137</td><td>extra</td></tr><tr><td>66876</td><td>11750</td><td>2019-12-01</td><td>453211******1392</td><td>extra</td></tr><tr><td>17275</td><td>11750</td><td>2019-12-01</td><td>453211******1531</td><td>extra</td></tr><tr><td>17275</td><td>11750</td><td>2019-12-01</td><td>453211******6820</td><td>extra</td></tr><tr><td>17275</td><td>11750</td><td>2019-12-01</td><td>453211******7094</td><td>extra</td></tr><tr><td>66876</td><td>11750</td><td>2019-12-01</td><td>453211******4482</td><td>extra</td></tr><tr><td>66876</td><td>11750</td><td>2019-12-01</td><td>453211******4310</td><td>extra</td></tr><tr><td>49919</td><td>11858</td><td>2019-11-09</td><td>498406******4794</td><td>low</td></tr><tr><td>15950</td><td>12678</td><td>2019-11-30</td><td>515743******4883</td><td>low</td></tr><tr><td>15950</td><td>12678</td><td>2019-11-30</td><td>515743******4883</td><td>low</td></tr><tr><td>12745</td><td>12756</td><td>2019-11-26</td><td>553636******4689</td><td>low</td></tr><tr><td>91972</td><td>13793</td><td>2019-11-10</td><td>476331******1570</td><td>low</td></tr><tr><td>36700</td><td>16644</td><td>2019-11-22</td><td>553636******6346</td><td>low</td></tr><tr><td>76725</td><td>16781</td><td>2019-11-04</td><td>546056******2924</td><td>low</td></tr><tr><td>42356</td><td>16862</td><td>2019-11-27</td><td>530994******6025</td><td>low</td></tr><tr><td>42356</td><td>16862</td><td>2019-11-27</td><td>530994******6025</td><td>low</td></tr><tr><td>38337</td><td>17507</td><td>2019-11-22</td><td>498406******9615</td><td>low</td></tr><tr><td>81795</td><td>17807</td><td>2019-11-28</td><td>606282******9552</td><td>low</td></tr><tr><td>81795</td><td>17807</td><td>2019-11-28</td><td>606282******9552</td><td>low</td></tr><tr><td>81795</td><td>17807</td><td>2019-11-30</td><td>606282******2612</td><td>low</td></tr><tr><td>81795</td><td>17807</td><td>2019-11-30</td><td>606282******2612</td><td>low</td></tr><tr><td>75917</td><td>17929</td><td>2019-11-22</td><td>606282******5292</td><td>low</td></tr><tr><td>75917</td><td>17929</td><td>2019-11-22</td><td>606282******4778</td><td>low</td></tr><tr><td>75917</td><td>17929</td><td>2019-11-23</td><td>606282******4736</td><td>low</td></tr><tr><td>75917</td><td>17929</td><td>2019-11-23</td><td>606282******3253</td><td>low</td></tr><tr><td>60526</td><td>17929</td><td>2019-11-28</td><td>606282******9429</td><td>low</td></tr><tr><td>60526</td><td>17929</td><td>2019-11-28</td><td>606282******6426</td><td>low</td></tr><tr><td>62052</td><td>18227</td><td>2019-11-04</td><td>550209******3098</td><td>mid</td></tr><tr><td>62052</td><td>18227</td><td>2019-11-04</td><td>550209******3098</td><td>mid</td></tr><tr><td>62052</td><td>18227</td><td>2019-11-04</td><td>550209******3098</td><td>mid</td></tr><tr><td>1017</td><td>19199</td><td>2019-11-22</td><td>455181******8021</td><td>low</td></tr><tr><td>73271</td><td>19440</td><td>2019-11-28</td><td>530994******1976</td><td>low</td></tr><tr><td>41354</td><td>19820</td><td>2019-11-02</td><td>606282******6581</td><td>mid</td></tr><tr><td>41354</td><td>19820</td><td>2019-11-02</td><td>606282******6581</td><td>mid</td></tr><tr><td>41354</td><td>19820</td><td>2019-11-02</td><td>606282******6581</td><td>mid</td></tr><tr><td>15326</td><td>21233</td><td>2019-11-29</td><td>606282******2822</td><td>low</td></tr><tr><td>15326</td><td>21233</td><td>2019-11-29</td><td>606282******2822</td><td>low</td></tr><tr><td>91972</td><td>21702</td><td>2019-11-12</td><td>534520******2126</td><td>low</td></tr><tr><td>91972</td><td>21702</td><td>2019-11-13</td><td>511781******4265</td><td>low</td></tr><tr><td>44927</td><td>21768</td><td>2019-11-30</td><td>530034******3859</td><td>mid</td></tr><tr><td>44927</td><td>21768</td><td>2019-11-30</td><td>530034******3859</td><td>mid</td></tr><tr><td>44927</td><td>21768</td><td>2019-11-30</td><td>530034******3859</td><td>mid</td></tr><tr><td>44927</td><td>21768</td><td>2019-11-30</td><td>530034******3859</td><td>mid</td></tr><tr><td>67764</td><td>21768</td><td>2019-12-01</td><td>530034******3859</td><td>low</td></tr><tr><td>67764</td><td>21768</td><td>2019-12-01</td><td>530034******3859</td><td>low</td></tr><tr><td>29744</td><td>23429</td><td>2019-11-30</td><td>455183******5202</td><td>low</td></tr><tr><td>35917</td><td>23916</td><td>2019-11-23</td><td>536380******8110</td><td>low</td></tr><tr><td>8942</td><td>24027</td><td>2019-11-03</td><td>406669******8126</td><td>low</td></tr><tr><td>11911</td><td>24543</td><td>2019-11-22</td><td>550209******4447</td><td>low</td></tr><tr><td>11911</td><td>24543</td><td>2019-11-22</td><td>550209******4447</td><td>low</td></tr><tr><td>91972</td><td>24644</td><td>2019-11-26</td><td>650486******2500</td><td>low</td></tr><tr><td>72723</td><td>26251</td><td>2019-12-01</td><td>530034******4649</td><td>low</td></tr><tr><td>72723</td><td>26251</td><td>2019-12-01</td><td>530034******4649</td><td>low</td></tr><tr><td>44927</td><td>27555</td><td>2019-11-24</td><td>530034******8258</td><td>mid</td></tr><tr><td>44927</td><td>27555</td><td>2019-11-24</td><td>530034******8258</td><td>mid</td></tr><tr><td>44927</td><td>27555</td><td>2019-11-24</td><td>530034******8258</td><td>mid</td></tr><tr><td>44927</td><td>27555</td><td>2019-11-27</td><td>530034******8258</td><td>low</td></tr><tr><td>49919</td><td>27657</td><td>2019-11-10</td><td>490172******7226</td><td>low</td></tr><tr><td>36700</td><td>27657</td><td>2019-11-21</td><td>544731******5895</td><td>low</td></tr><tr><td>36700</td><td>27657</td><td>2019-11-21</td><td>606282******1135</td><td>low</td></tr><tr><td>36700</td><td>27657</td><td>2019-11-22</td><td>549167******2904</td><td>low</td></tr><tr><td>97291</td><td>27779</td><td>2019-11-29</td><td>606282******8620</td><td>low</td></tr><tr><td>97291</td><td>27779</td><td>2019-11-29</td><td>606282******8620</td><td>low</td></tr><tr><td>45399</td><td>27987</td><td>2019-11-19</td><td>606282******8059</td><td>low</td></tr><tr><td>53041</td><td>28218</td><td>2019-11-18</td><td>528392******8943</td><td>low</td></tr><tr><td>53041</td><td>28218</td><td>2019-11-19</td><td>498406******7104</td><td>low</td></tr><tr><td>53041</td><td>28218</td><td>2019-11-20</td><td>498406******7104</td><td>low</td></tr><tr><td>53041</td><td>28218</td><td>2019-11-20</td><td>498406******7104</td><td>low</td></tr><tr><td>53041</td><td>28218</td><td>2019-11-21</td><td>498406******7104</td><td>low</td></tr><tr><td>25932</td><td>30874</td><td>2019-11-08</td><td>537110******2022</td><td>low</td></tr><tr><td>25932</td><td>30874</td><td>2019-11-08</td><td>537110******2022</td><td>low</td></tr><tr><td>25932</td><td>30874</td><td>2019-11-09</td><td>498406******2381</td><td>low</td></tr><tr><td>25932</td><td>30874</td><td>2019-11-09</td><td>546056******8910</td><td>low</td></tr><tr><td>52897</td><td>31819</td><td>2019-11-22</td><td>422005******9082</td><td>mid</td></tr><tr><td>52897</td><td>31819</td><td>2019-11-22</td><td>422005******9082</td><td>mid</td></tr><tr><td>52897</td><td>31819</td><td>2019-11-22</td><td>422005******9082</td><td>mid</td></tr><tr><td>5404</td><td>31867</td><td>2019-11-30</td><td>536537******6127</td><td>low</td></tr><tr><td>25473</td><td>33805</td><td>2019-11-22</td><td>530033******4225</td><td>low</td></tr><tr><td>65241</td><td>35138</td><td>2019-11-21</td><td>549167******8109</td><td>low</td></tr><tr><td>65241</td><td>35138</td><td>2019-11-22</td><td>549167******8109</td><td>low</td></tr><tr><td>55854</td><td>37113</td><td>2019-11-27</td><td>543882******5366</td><td>low</td></tr><tr><td>55854</td><td>37113</td><td>2019-11-27</td><td>543882******5366</td><td>low</td></tr><tr><td>7535</td><td>38734</td><td>2019-11-19</td><td>523421******3665</td><td>low</td></tr><tr><td>91972</td><td>38890</td><td>2019-11-21</td><td>530780******1934</td><td>low</td></tr><tr><td>9292</td><td>39334</td><td>2019-11-21</td><td>553665******7590</td><td>low</td></tr><tr><td>48912</td><td>39443</td><td>2019-11-30</td><td>545462******7215</td><td>low</td></tr><tr><td>38337</td><td>40493</td><td>2019-11-22</td><td>650727******5418</td><td>mid</td></tr><tr><td>38337</td><td>40493</td><td>2019-11-22</td><td>650727******5418</td><td>mid</td></tr><tr><td>38337</td><td>40493</td><td>2019-11-22</td><td>650727******5418</td><td>mid</td></tr><tr><td>49919</td><td>40595</td><td>2019-11-09</td><td>498401******4043</td><td>low</td></tr><tr><td>35917</td><td>41281</td><td>2019-11-23</td><td>412177******1380</td><td>low</td></tr><tr><td>77130</td><td>42677</td><td>2019-11-08</td><td>515601******8618</td><td>mid</td></tr><tr><td>77130</td><td>42677</td><td>2019-11-08</td><td>515601******8618</td><td>mid</td></tr><tr><td>77130</td><td>42677</td><td>2019-11-08</td><td>515601******8618</td><td>mid</td></tr><tr><td>11570</td><td>43018</td><td>2019-11-30</td><td>550209******5242</td><td>low</td></tr><tr><td>96692</td><td>43108</td><td>2019-11-22</td><td>541555******6900</td><td>low</td></tr><tr><td>49919</td><td>43913</td><td>2019-11-15</td><td>406655******5230</td><td>low</td></tr><tr><td>99644</td><td>44494</td><td>2019-11-30</td><td>546056******9897</td><td>low</td></tr><tr><td>54603</td><td>44531</td><td>2019-11-23</td><td>530034******2277</td><td>mid</td></tr><tr><td>54603</td><td>44531</td><td>2019-11-23</td><td>530034******7995</td><td>mid</td></tr><tr><td>18344</td><td>44531</td><td>2019-11-23</td><td>530034******7995</td><td>mid</td></tr><tr><td>84902</td><td>45031</td><td>2019-11-22</td><td>531681******2003</td><td>low</td></tr><tr><td>5533</td><td>45420</td><td>2019-11-30</td><td>527497******7790</td><td>low</td></tr><tr><td>23722</td><td>47604</td><td>2019-11-30</td><td>498453******9455</td><td>low</td></tr><tr><td>23722</td><td>47604</td><td>2019-11-30</td><td>498453******9455</td><td>low</td></tr><tr><td>29214</td><td>50643</td><td>2019-11-29</td><td>490172******3386</td><td>low</td></tr><tr><td>29214</td><td>50643</td><td>2019-11-29</td><td>490172******3386</td><td>low</td></tr><tr><td>29214</td><td>50643</td><td>2019-11-30</td><td>515590******8206</td><td>low</td></tr><tr><td>29214</td><td>50643</td><td>2019-11-30</td><td>515590******8206</td><td>low</td></tr><tr><td>23017</td><td>50699</td><td>2019-11-11</td><td>553636******6491</td><td>low</td></tr><tr><td>83142</td><td>50734</td><td>2019-11-30</td><td>606282******1705</td><td>low</td></tr><tr><td>3531</td><td>52129</td><td>2019-11-30</td><td>544731******8590</td><td>low</td></tr><tr><td>3531</td><td>52129</td><td>2019-11-30</td><td>544731******8590</td><td>low</td></tr><tr><td>55854</td><td>53850</td><td>2019-11-27</td><td>527468******1757</td><td>mid</td></tr><tr><td>55854</td><td>53850</td><td>2019-11-27</td><td>527468******1757</td><td>mid</td></tr><tr><td>55854</td><td>53850</td><td>2019-11-27</td><td>527468******1757</td><td>mid</td></tr><tr><td>48126</td><td>55630</td><td>2019-11-29</td><td>421960******7769</td><td>mid</td></tr><tr><td>48126</td><td>55630</td><td>2019-11-29</td><td>421960******7769</td><td>mid</td></tr><tr><td>48126</td><td>55630</td><td>2019-11-29</td><td>421960******7769</td><td>mid</td></tr><tr><td>60779</td><td>56139</td><td>2019-11-22</td><td>412177******4129</td><td>low</td></tr><tr><td>60779</td><td>56139</td><td>2019-11-22</td><td>412177******4129</td><td>low</td></tr><tr><td>99510</td><td>56877</td><td>2019-11-30</td><td>441030******2146</td><td>high</td></tr><tr><td>99510</td><td>56877</td><td>2019-11-30</td><td>441030******2146</td><td>high</td></tr><tr><td>99510</td><td>56877</td><td>2019-11-30</td><td>441030******2146</td><td>high</td></tr><tr><td>99510</td><td>56877</td><td>2019-11-30</td><td>406655******8217</td><td>high</td></tr><tr><td>99510</td><td>56877</td><td>2019-11-30</td><td>441030******2146</td><td>high</td></tr><tr><td>65241</td><td>57127</td><td>2019-11-23</td><td>530049******7829</td><td>low</td></tr><tr><td>53041</td><td>57594</td><td>2019-11-18</td><td>544570******2897</td><td>low</td></tr><tr><td>65330</td><td>58709</td><td>2019-11-20</td><td>439027******4670</td><td>low</td></tr><tr><td>53041</td><td>58905</td><td>2019-11-19</td><td>459080******2870</td><td>low</td></tr><tr><td>53041</td><td>58905</td><td>2019-11-20</td><td>459080******2870</td><td>low</td></tr><tr><td>53041</td><td>58905</td><td>2019-11-22</td><td>459080******2870</td><td>low</td></tr><tr><td>53041</td><td>58905</td><td>2019-11-22</td><td>459080******2870</td><td>low</td></tr><tr><td>63050</td><td>59418</td><td>2019-11-30</td><td>606282******4880</td><td>low</td></tr><tr><td>91972</td><td>60263</td><td>2019-11-11</td><td>230650******5729</td><td>low</td></tr><tr><td>8787</td><td>61047</td><td>2019-11-22</td><td>498408******2390</td><td>low</td></tr><tr><td>81894</td><td>61415</td><td>2019-11-21</td><td>606282******9701</td><td>low</td></tr><tr><td>62613</td><td>62888</td><td>2019-11-23</td><td>530034******4836</td><td>low</td></tr><tr><td>46609</td><td>63582</td><td>2019-11-28</td><td>523421******3223</td><td>low</td></tr><tr><td>18344</td><td>64057</td><td>2019-11-22</td><td>553636******5642</td><td>low</td></tr><tr><td>71507</td><td>65935</td><td>2019-11-21</td><td>498407******6521</td><td>low</td></tr><tr><td>71507</td><td>65935</td><td>2019-11-21</td><td>548984******5486</td><td>low</td></tr><tr><td>5252</td><td>66643</td><td>2019-11-28</td><td>498407******6947</td><td>low</td></tr><tr><td>15326</td><td>66979</td><td>2019-11-29</td><td>606282******6780</td><td>low</td></tr><tr><td>15326</td><td>66979</td><td>2019-11-30</td><td>545368******6282</td><td>low</td></tr><tr><td>15326</td><td>66979</td><td>2019-11-30</td><td>545368******6282</td><td>low</td></tr><tr><td>39253</td><td>67519</td><td>2019-11-23</td><td>406655******3711</td><td>mid</td></tr><tr><td>39253</td><td>67519</td><td>2019-11-23</td><td>406655******4190</td><td>mid</td></tr><tr><td>39253</td><td>67519</td><td>2019-11-23</td><td>406655******7191</td><td>mid</td></tr><tr><td>39253</td><td>67519</td><td>2019-11-23</td><td>406655******8770</td><td>mid</td></tr><tr><td>21281</td><td>67845</td><td>2019-11-28</td><td>490172******6404</td><td>low</td></tr><tr><td>18768</td><td>68191</td><td>2019-11-29</td><td>606282******2241</td><td>low</td></tr><tr><td>2842</td><td>69466</td><td>2019-11-23</td><td>536805******1909</td><td>low</td></tr><tr><td>76239</td><td>69466</td><td>2019-11-23</td><td>498406******3598</td><td>low</td></tr><tr><td>48982</td><td>69588</td><td>2019-11-21</td><td>542976******1627</td><td>low</td></tr><tr><td>4153</td><td>69588</td><td>2019-11-29</td><td>552640******7443</td><td>mid</td></tr><tr><td>4153</td><td>69588</td><td>2019-11-29</td><td>552640******7443</td><td>mid</td></tr><tr><td>4153</td><td>69588</td><td>2019-11-29</td><td>552640******7443</td><td>mid</td></tr><tr><td>68657</td><td>69758</td><td>2019-12-01</td><td>464296******3991</td><td>low</td></tr><tr><td>56977</td><td>69758</td><td>2019-12-01</td><td>464296******3991</td><td>low</td></tr><tr><td>70899</td><td>69973</td><td>2019-11-07</td><td>406655******3848</td><td>low</td></tr><tr><td>49919</td><td>70457</td><td>2019-11-10</td><td>515590******8323</td><td>low</td></tr><tr><td>53041</td><td>70465</td><td>2019-11-22</td><td>412177******9154</td><td>low</td></tr><tr><td>97291</td><td>70557</td><td>2019-11-29</td><td>545368******7205</td><td>low</td></tr><tr><td>97291</td><td>70557</td><td>2019-11-29</td><td>545368******7205</td><td>low</td></tr><tr><td>29214</td><td>71424</td><td>2019-11-28</td><td>490172******3386</td><td>mid</td></tr><tr><td>29214</td><td>71424</td><td>2019-11-28</td><td>490172******9947</td><td>mid</td></tr><tr><td>29214</td><td>71424</td><td>2019-11-28</td><td>490172******9947</td><td>mid</td></tr><tr><td>29214</td><td>71424</td><td>2019-11-29</td><td>470598******8612</td><td>low</td></tr><tr><td>29214</td><td>71424</td><td>2019-11-30</td><td>470598******8612</td><td>low</td></tr><tr><td>99510</td><td>71433</td><td>2019-11-27</td><td>455187******2460</td><td>low</td></tr><tr><td>99510</td><td>71433</td><td>2019-11-27</td><td>455187******2460</td><td>low</td></tr><tr><td>49909</td><td>73385</td><td>2019-11-29</td><td>553636******3778</td><td>low</td></tr><tr><td>49909</td><td>73385</td><td>2019-11-29</td><td>553636******8798</td><td>low</td></tr><tr><td>49909</td><td>73385</td><td>2019-11-30</td><td>406669******5822</td><td>low</td></tr><tr><td>5533</td><td>73867</td><td>2019-11-30</td><td>430535******9122</td><td>low</td></tr><tr><td>4694</td><td>74844</td><td>2019-11-30</td><td>606282******1353</td><td>low</td></tr><tr><td>77130</td><td>75710</td><td>2019-11-08</td><td>554482******7640</td><td>extra</td></tr><tr><td>77130</td><td>75710</td><td>2019-11-08</td><td>554482******7640</td><td>extra</td></tr><tr><td>77130</td><td>75710</td><td>2019-11-08</td><td>554482******7640</td><td>extra</td></tr><tr><td>77130</td><td>75710</td><td>2019-11-08</td><td>554482******7640</td><td>extra</td></tr><tr><td>77130</td><td>75710</td><td>2019-11-08</td><td>554482******7640</td><td>extra</td></tr><tr><td>77130</td><td>75710</td><td>2019-11-08</td><td>554482******7640</td><td>extra</td></tr><tr><td>77130</td><td>75710</td><td>2019-11-08</td><td>554482******7640</td><td>extra</td></tr><tr><td>77130</td><td>75710</td><td>2019-11-09</td><td>554482******7640</td><td>mid</td></tr><tr><td>77130</td><td>75710</td><td>2019-11-09</td><td>554482******7640</td><td>mid</td></tr><tr><td>77130</td><td>75710</td><td>2019-11-09</td><td>554482******7640</td><td>mid</td></tr><tr><td>77570</td><td>75889</td><td>2019-11-01</td><td>527496******2850</td><td>low</td></tr><tr><td>77570</td><td>75889</td><td>2019-11-06</td><td>406168******2582</td><td>low</td></tr><tr><td>42356</td><td>76422</td><td>2019-11-27</td><td>498408******4290</td><td>low</td></tr><tr><td>42356</td><td>76422</td><td>2019-11-27</td><td>498408******4290</td><td>low</td></tr><tr><td>18344</td><td>76768</td><td>2019-11-23</td><td>530034******8134</td><td>mid</td></tr><tr><td>54603</td><td>76768</td><td>2019-11-23</td><td>530034******8352</td><td>mid</td></tr><tr><td>18344</td><td>76768</td><td>2019-11-23</td><td>530034******2483</td><td>mid</td></tr><tr><td>8942</td><td>76819</td><td>2019-11-03</td><td>552289******8870</td><td>mid</td></tr><tr><td>8942</td><td>76819</td><td>2019-11-03</td><td>552289******8870</td><td>mid</td></tr><tr><td>8942</td><td>76819</td><td>2019-11-03</td><td>552289******8870</td><td>mid</td></tr><tr><td>8942</td><td>76819</td><td>2019-11-03</td><td>552289******8870</td><td>mid</td></tr><tr><td>73205</td><td>77999</td><td>2019-11-28</td><td>498408******5158</td><td>low</td></tr><tr><td>49919</td><td>78262</td><td>2019-11-15</td><td>514868******3935</td><td>low</td></tr><tr><td>49919</td><td>78262</td><td>2019-11-17</td><td>498401******7580</td><td>low</td></tr><tr><td>65330</td><td>78262</td><td>2019-11-18</td><td>515590******4614</td><td>low</td></tr><tr><td>65330</td><td>78262</td><td>2019-11-20</td><td>406655******6489</td><td>low</td></tr><tr><td>65330</td><td>78262</td><td>2019-11-22</td><td>553636******3478</td><td>low</td></tr><tr><td>65330</td><td>78262</td><td>2019-11-22</td><td>553636******6676</td><td>low</td></tr><tr><td>65330</td><td>78262</td><td>2019-11-24</td><td>553636******4313</td><td>low</td></tr><tr><td>59875</td><td>78262</td><td>2019-11-25</td><td>553636******6300</td><td>high</td></tr><tr><td>65330</td><td>78262</td><td>2019-11-25</td><td>553636******6300</td><td>high</td></tr><tr><td>59875</td><td>78262</td><td>2019-11-25</td><td>553636******6301</td><td>high</td></tr><tr><td>65330</td><td>78262</td><td>2019-11-25</td><td>553636******6301</td><td>high</td></tr><tr><td>59875</td><td>78262</td><td>2019-11-25</td><td>553636******4313</td><td>high</td></tr><tr><td>36617</td><td>79054</td><td>2019-11-28</td><td>406655******6040</td><td>extra</td></tr><tr><td>36617</td><td>79054</td><td>2019-11-28</td><td>406655******6347</td><td>extra</td></tr><tr><td>18267</td><td>79054</td><td>2019-11-28</td><td>406655******1129</td><td>extra</td></tr><tr><td>18267</td><td>79054</td><td>2019-11-28</td><td>406655******3462</td><td>extra</td></tr><tr><td>98272</td><td>79054</td><td>2019-11-28</td><td>406655******9249</td><td>extra</td></tr><tr><td>18267</td><td>79054</td><td>2019-11-28</td><td>406655******2259</td><td>extra</td></tr><tr><td>98272</td><td>79054</td><td>2019-11-28</td><td>406655******6628</td><td>extra</td></tr><tr><td>98272</td><td>79054</td><td>2019-11-28</td><td>406655******6027</td><td>extra</td></tr><tr><td>1308</td><td>79054</td><td>2019-11-29</td><td>406655******7343</td><td>extra</td></tr><tr><td>1308</td><td>79054</td><td>2019-11-29</td><td>406655******7948</td><td>extra</td></tr><tr><td>1308</td><td>79054</td><td>2019-11-29</td><td>406655******5169</td><td>extra</td></tr><tr><td>1308</td><td>79054</td><td>2019-11-29</td><td>406655******5763</td><td>extra</td></tr><tr><td>1308</td><td>79054</td><td>2019-11-29</td><td>406655******7948</td><td>extra</td></tr><tr><td>36617</td><td>79054</td><td>2019-11-29</td><td>406655******7948</td><td>extra</td></tr><tr><td>36617</td><td>79054</td><td>2019-11-29</td><td>406655******4572</td><td>extra</td></tr><tr><td>73922</td><td>79237</td><td>2019-11-27</td><td>553096******5104</td><td>low</td></tr><tr><td>83982</td><td>79462</td><td>2019-11-29</td><td>498406******5873</td><td>low</td></tr><tr><td>72723</td><td>79998</td><td>2019-11-30</td><td>606282******2682</td><td>low</td></tr><tr><td>72723</td><td>79998</td><td>2019-11-30</td><td>606282******2682</td><td>low</td></tr><tr><td>92215</td><td>80769</td><td>2019-11-30</td><td>498406******3714</td><td>low</td></tr><tr><td>56107</td><td>81152</td><td>2019-12-01</td><td>650516******9201</td><td>mid</td></tr><tr><td>56107</td><td>81152</td><td>2019-12-01</td><td>650516******9201</td><td>mid</td></tr><tr><td>56107</td><td>81152</td><td>2019-12-01</td><td>650516******9201</td><td>mid</td></tr><tr><td>56107</td><td>81152</td><td>2019-12-01</td><td>650516******7004</td><td>mid</td></tr><tr><td>73271</td><td>81164</td><td>2019-11-28</td><td>516292******8508</td><td>low</td></tr><tr><td>73271</td><td>81164</td><td>2019-11-30</td><td>606282******450</td><td>low</td></tr><tr><td>54572</td><td>81642</td><td>2019-11-21</td><td>552530******3548</td><td>low</td></tr><tr><td>48982</td><td>83258</td><td>2019-11-22</td><td>528392******9724</td><td>low</td></tr><tr><td>5763</td><td>83258</td><td>2019-11-23</td><td>410424******5129</td><td>low</td></tr><tr><td>4153</td><td>83258</td><td>2019-11-29</td><td>485464******3595</td><td>low</td></tr><tr><td>20663</td><td>83722</td><td>2019-11-23</td><td>498406******9651</td><td>low</td></tr><tr><td>20663</td><td>83722</td><td>2019-11-25</td><td>606282******5785</td><td>mid</td></tr><tr><td>20663</td><td>83722</td><td>2019-11-25</td><td>606282******5785</td><td>mid</td></tr><tr><td>20663</td><td>83722</td><td>2019-11-25</td><td>606282******5785</td><td>mid</td></tr><tr><td>25199</td><td>83826</td><td>2019-11-21</td><td>650486******4290</td><td>low</td></tr><tr><td>36700</td><td>84071</td><td>2019-11-22</td><td>515117******8659</td><td>low</td></tr><tr><td>90035</td><td>85612</td><td>2019-11-26</td><td>412177******1138</td><td>low</td></tr><tr><td>94053</td><td>85897</td><td>2019-11-19</td><td>541555******2603</td><td>low</td></tr><tr><td>3109</td><td>86219</td><td>2019-11-27</td><td>606282******9980</td><td>low</td></tr><tr><td>89943</td><td>86411</td><td>2019-11-21</td><td>651653******2256</td><td>low</td></tr><tr><td>89943</td><td>86411</td><td>2019-11-22</td><td>651653******2256</td><td>low</td></tr><tr><td>89943</td><td>86411</td><td>2019-11-23</td><td>651653******2256</td><td>low</td></tr><tr><td>89943</td><td>86411</td><td>2019-11-24</td><td>651653******2256</td><td>low</td></tr><tr><td>89943</td><td>86411</td><td>2019-11-27</td><td>651653******2256</td><td>low</td></tr><tr><td>44927</td><td>87048</td><td>2019-11-30</td><td>530034******2579</td><td>mid</td></tr><tr><td>44927</td><td>87048</td><td>2019-11-30</td><td>530034******2579</td><td>mid</td></tr><tr><td>44927</td><td>87048</td><td>2019-11-30</td><td>530034******9719</td><td>mid</td></tr><tr><td>67075</td><td>89064</td><td>2019-11-26</td><td>506778******7321</td><td>low</td></tr><tr><td>91446</td><td>89615</td><td>2019-11-26</td><td>444456******5431</td><td>low</td></tr><tr><td>91446</td><td>89615</td><td>2019-11-28</td><td>485464******8424</td><td>low</td></tr><tr><td>91446</td><td>89615</td><td>2019-11-28</td><td>444456******7890</td><td>low</td></tr><tr><td>73205</td><td>90144</td><td>2019-11-30</td><td>553096******1741</td><td>low</td></tr><tr><td>81795</td><td>90176</td><td>2019-12-01</td><td>545368******9514</td><td>low</td></tr><tr><td>81795</td><td>90176</td><td>2019-12-01</td><td>545368******9514</td><td>low</td></tr><tr><td>84970</td><td>90182</td><td>2019-12-01</td><td>464296******3991</td><td>low</td></tr><tr><td>4705</td><td>91637</td><td>2019-11-21</td><td>496045******1160</td><td>low</td></tr><tr><td>4705</td><td>91637</td><td>2019-11-21</td><td>558763******7319</td><td>low</td></tr><tr><td>4705</td><td>91637</td><td>2019-11-22</td><td>530033******3319</td><td>mid</td></tr><tr><td>4705</td><td>91637</td><td>2019-11-22</td><td>530033******6050</td><td>mid</td></tr><tr><td>4705</td><td>91637</td><td>2019-11-22</td><td>530033******9840</td><td>mid</td></tr><tr><td>4705</td><td>91637</td><td>2019-11-22</td><td>415274******7114</td><td>mid</td></tr><tr><td>4705</td><td>91637</td><td>2019-11-23</td><td>498401******4982</td><td>high</td></tr><tr><td>4705</td><td>91637</td><td>2019-11-23</td><td>415274******7113</td><td>high</td></tr><tr><td>4705</td><td>91637</td><td>2019-11-23</td><td>530034******4416</td><td>high</td></tr><tr><td>4705</td><td>91637</td><td>2019-11-23</td><td>530033******3010</td><td>high</td></tr><tr><td>4705</td><td>91637</td><td>2019-11-23</td><td>530034******3802</td><td>high</td></tr><tr><td>4705</td><td>91637</td><td>2019-11-26</td><td>554906******8297</td><td>low</td></tr><tr><td>4705</td><td>91637</td><td>2019-11-26</td><td>554927******7403</td><td>low</td></tr><tr><td>4705</td><td>91637</td><td>2019-11-27</td><td>515590******3621</td><td>low</td></tr><tr><td>4705</td><td>91637</td><td>2019-11-27</td><td>515590******4661</td><td>low</td></tr><tr><td>4705</td><td>91637</td><td>2019-11-28</td><td>406655******2189</td><td>low</td></tr><tr><td>4705</td><td>91637</td><td>2019-11-29</td><td>406655******7631</td><td>mid</td></tr><tr><td>4705</td><td>91637</td><td>2019-11-29</td><td>490172******1626</td><td>mid</td></tr><tr><td>4705</td><td>91637</td><td>2019-11-29</td><td>489391******6735</td><td>mid</td></tr><tr><td>82867</td><td>92034</td><td>2019-11-23</td><td>459315******9675</td><td>low</td></tr><tr><td>82867</td><td>92034</td><td>2019-11-23</td><td>459315******9675</td><td>low</td></tr><tr><td>4153</td><td>92034</td><td>2019-11-29</td><td>498442******7462</td><td>low</td></tr><tr><td>48126</td><td>92259</td><td>2019-11-28</td><td>406669******1721</td><td>low</td></tr><tr><td>48126</td><td>92259</td><td>2019-11-28</td><td>406669******1721</td><td>low</td></tr><tr><td>48126</td><td>92259</td><td>2019-11-29</td><td>406669******1721</td><td>low</td></tr><tr><td>75917</td><td>92930</td><td>2019-11-21</td><td>606282******9364</td><td>low</td></tr><tr><td>75917</td><td>92930</td><td>2019-11-22</td><td>606282******9364</td><td>low</td></tr><tr><td>62988</td><td>93156</td><td>2019-11-22</td><td>553636******5244</td><td>low</td></tr><tr><td>62988</td><td>93156</td><td>2019-11-22</td><td>406168******6228</td><td>low</td></tr><tr><td>23531</td><td>93679</td><td>2019-11-29</td><td>515590******820</td><td>low</td></tr><tr><td>91352</td><td>93767</td><td>2019-11-26</td><td>428267******4035</td><td>low</td></tr><tr><td>13096</td><td>93767</td><td>2019-11-28</td><td>428267******4035</td><td>low</td></tr><tr><td>83142</td><td>95694</td><td>2019-11-30</td><td>498401******2440</td><td>low</td></tr><tr><td>18267</td><td>96025</td><td>2019-11-28</td><td>406655******2133</td><td>mid</td></tr><tr><td>18267</td><td>96025</td><td>2019-11-28</td><td>406655******5812</td><td>mid</td></tr><tr><td>18267</td><td>96025</td><td>2019-11-28</td><td>406655******4332</td><td>mid</td></tr><tr><td>1308</td><td>96025</td><td>2019-11-29</td><td>406655******4980</td><td>extra</td></tr><tr><td>1308</td><td>96025</td><td>2019-11-29</td><td>406655******7343</td><td>extra</td></tr><tr><td>1308</td><td>96025</td><td>2019-11-29</td><td>406655******7343</td><td>extra</td></tr><tr><td>1308</td><td>96025</td><td>2019-11-29</td><td>406655******4980</td><td>extra</td></tr><tr><td>1308</td><td>96025</td><td>2019-11-29</td><td>406655******5764</td><td>extra</td></tr><tr><td>1308</td><td>96025</td><td>2019-11-29</td><td>406655******5764</td><td>extra</td></tr><tr><td>1308</td><td>96025</td><td>2019-11-29</td><td>406655******4572</td><td>extra</td></tr><tr><td>1308</td><td>96025</td><td>2019-11-29</td><td>406655******5764</td><td>extra</td></tr><tr><td>1308</td><td>96025</td><td>2019-11-29</td><td>406655******4608</td><td>extra</td></tr><tr><td>1308</td><td>96025</td><td>2019-11-29</td><td>406655******5763</td><td>extra</td></tr><tr><td>16266</td><td>96495</td><td>2019-11-01</td><td>522840******2045</td><td>low</td></tr><tr><td>16266</td><td>96495</td><td>2019-11-01</td><td>552305******4782</td><td>low</td></tr><tr><td>74450</td><td>96576</td><td>2019-11-20</td><td>525320******4631</td><td>low</td></tr><tr><td>91972</td><td>96972</td><td>2019-11-20</td><td>544731******6031</td><td>low</td></tr><tr><td>1175</td><td>96976</td><td>2019-11-23</td><td>412177******2190</td><td>low</td></tr><tr><td>11973</td><td>97150</td><td>2019-11-16</td><td>474512******8396</td><td>low</td></tr><tr><td>91972</td><td>97611</td><td>2019-11-14</td><td>230744******950</td><td>low</td></tr><tr><td>91972</td><td>97611</td><td>2019-11-30</td><td>410863******3518</td><td>low</td></tr><tr><td>38568</td><td>99396</td><td>2019-11-29</td><td>524703******3515</td><td>low</td></tr><tr><td>38568</td><td>99396</td><td>2019-11-29</td><td>606282******6990</td><td>low</td></tr><tr><td>38568</td><td>99396</td><td>2019-11-30</td><td>536380******6214</td><td>mid</td></tr><tr><td>38568</td><td>99396</td><td>2019-11-30</td><td>412177******2318</td><td>mid</td></tr><tr><td>38568</td><td>99396</td><td>2019-11-30</td><td>422100******2853</td><td>mid</td></tr><tr><td>91972</td><td>99876</td><td>2019-11-23</td><td>511588******6999</td><td>low</td></tr></tbody></table></div>"
      ]
     },
     "metadata": {
      "application/vnd.databricks.v1+output": {
       "addedWidgets": {},
       "aggData": [],
       "aggError": "",
       "aggOverflow": false,
       "aggSchema": [],
       "aggSeriesLimitReached": false,
       "aggType": "",
       "arguments": {},
       "columnCustomDisplayInfos": {},
       "data": [
        [
         53041,
         900,
         "2019-11-22",
         "412177******1138",
         "low"
        ],
        [
         92895,
         2708,
         "2019-12-01",
         "444456******4210",
         "low"
        ],
        [
         62194,
         3157,
         "2019-12-01",
         "535081******2584",
         "low"
        ],
        [
         55854,
         3584,
         "2019-11-27",
         "544731******9913",
         "mid"
        ],
        [
         55854,
         3584,
         "2019-11-27",
         "544731******7164",
         "mid"
        ],
        [
         55854,
         3584,
         "2019-11-27",
         "544731******7164",
         "mid"
        ],
        [
         55854,
         3584,
         "2019-11-27",
         "544731******7164",
         "mid"
        ],
        [
         38337,
         4651,
         "2019-11-22",
         "230744******4802",
         "low"
        ],
        [
         38337,
         4651,
         "2019-11-22",
         "230744******4802",
         "low"
        ],
        [
         63050,
         4651,
         "2019-11-29",
         "606282******4880",
         "low"
        ],
        [
         94198,
         4744,
         "2019-11-26",
         "422061******5068",
         "low"
        ],
        [
         53816,
         5541,
         "2019-12-01",
         "606282******3381",
         "mid"
        ],
        [
         11470,
         5541,
         "2019-12-01",
         "606282******3381",
         "mid"
        ],
        [
         49710,
         5541,
         "2019-12-01",
         "606282******3381",
         "mid"
        ],
        [
         38755,
         6761,
         "2019-11-28",
         "552693******2902",
         "low"
        ],
        [
         38755,
         6761,
         "2019-11-29",
         "552693******2902",
         "low"
        ],
        [
         38755,
         6761,
         "2019-11-29",
         "552693******2902",
         "low"
        ],
        [
         38901,
         7281,
         "2019-11-29",
         "554463******2136",
         "low"
        ],
        [
         17275,
         7695,
         "2019-11-28",
         "406655******8833",
         "low"
        ],
        [
         17275,
         7695,
         "2019-11-29",
         "453211******6587",
         "low"
        ],
        [
         17275,
         7695,
         "2019-11-30",
         "536537******7142",
         "low"
        ],
        [
         17275,
         7695,
         "2019-12-01",
         "453211******7840",
         "low"
        ],
        [
         73271,
         7725,
         "2019-11-28",
         "546479******9950",
         "low"
        ],
        [
         73271,
         7725,
         "2019-11-28",
         "455182******4775",
         "low"
        ],
        [
         73271,
         7725,
         "2019-11-29",
         "520405******5073",
         "mid"
        ],
        [
         73271,
         7725,
         "2019-11-29",
         "520405******5073",
         "mid"
        ],
        [
         73271,
         7725,
         "2019-11-29",
         "459315******2643",
         "mid"
        ],
        [
         73271,
         7725,
         "2019-11-30",
         "489391******7420",
         "low"
        ],
        [
         73271,
         7725,
         "2019-12-01",
         "489391******7420",
         "low"
        ],
        [
         73205,
         8743,
         "2019-11-28",
         "553096******7832",
         "low"
        ],
        [
         91972,
         8761,
         "2019-11-15",
         "410863******4853",
         "low"
        ],
        [
         74211,
         9600,
         "2019-11-23",
         "549167******6788",
         "low"
        ],
        [
         74211,
         9600,
         "2019-11-23",
         "470598******9351",
         "low"
        ],
        [
         71378,
         9853,
         "2019-11-22",
         "527407******8091",
         "mid"
        ],
        [
         71378,
         9853,
         "2019-11-22",
         "527407******8091",
         "mid"
        ],
        [
         71378,
         9853,
         "2019-11-22",
         "527407******8091",
         "mid"
        ],
        [
         46609,
         9853,
         "2019-11-28",
         "441524******2262",
         "low"
        ],
        [
         68953,
         10241,
         "2019-12-01",
         "533728******5576",
         "low"
        ],
        [
         46045,
         10378,
         "2019-11-28",
         "415944******1540",
         "low"
        ],
        [
         46045,
         10378,
         "2019-11-28",
         "415944******1540",
         "low"
        ],
        [
         42356,
         11065,
         "2019-11-27",
         "423072******8950",
         "low"
        ],
        [
         42356,
         11065,
         "2019-11-27",
         "498408******4290",
         "low"
        ],
        [
         42356,
         11065,
         "2019-11-28",
         "423072******8950",
         "low"
        ],
        [
         42356,
         11065,
         "2019-11-28",
         "423072******8950",
         "low"
        ],
        [
         53041,
         11452,
         "2019-11-18",
         "427167******3020",
         "low"
        ],
        [
         53041,
         11452,
         "2019-11-21",
         "470598******2152",
         "low"
        ],
        [
         60779,
         11452,
         "2019-11-22",
         "470598******2152",
         "low"
        ],
        [
         17275,
         11750,
         "2019-11-22",
         "498401******9945",
         "low"
        ],
        [
         17275,
         11750,
         "2019-11-23",
         "498401******1451",
         "low"
        ],
        [
         17275,
         11750,
         "2019-11-23",
         "498401******6342",
         "low"
        ],
        [
         17275,
         11750,
         "2019-11-25",
         "406655******2518",
         "low"
        ],
        [
         17275,
         11750,
         "2019-11-25",
         "453211******8383",
         "low"
        ],
        [
         17275,
         11750,
         "2019-11-26",
         "453211******4180",
         "low"
        ],
        [
         17275,
         11750,
         "2019-11-27",
         "453211******8930",
         "low"
        ],
        [
         17275,
         11750,
         "2019-11-27",
         "406655******4017",
         "low"
        ],
        [
         17275,
         11750,
         "2019-11-28",
         "406655******9187",
         "low"
        ],
        [
         17275,
         11750,
         "2019-11-28",
         "406655******8913",
         "low"
        ],
        [
         17275,
         11750,
         "2019-11-29",
         "453211******7385",
         "mid"
        ],
        [
         17275,
         11750,
         "2019-11-29",
         "453211******8822",
         "mid"
        ],
        [
         17275,
         11750,
         "2019-11-29",
         "403002******5770",
         "mid"
        ],
        [
         66876,
         11750,
         "2019-11-30",
         "453211******7546",
         "extra"
        ],
        [
         66876,
         11750,
         "2019-11-30",
         "453211******4433",
         "extra"
        ],
        [
         66876,
         11750,
         "2019-11-30",
         "453211******8177",
         "extra"
        ],
        [
         66876,
         11750,
         "2019-11-30",
         "536537******9148",
         "extra"
        ],
        [
         17275,
         11750,
         "2019-11-30",
         "536537******5153",
         "extra"
        ],
        [
         17275,
         11750,
         "2019-11-30",
         "536537******7137",
         "extra"
        ],
        [
         66876,
         11750,
         "2019-12-01",
         "453211******1392",
         "extra"
        ],
        [
         17275,
         11750,
         "2019-12-01",
         "453211******1531",
         "extra"
        ],
        [
         17275,
         11750,
         "2019-12-01",
         "453211******6820",
         "extra"
        ],
        [
         17275,
         11750,
         "2019-12-01",
         "453211******7094",
         "extra"
        ],
        [
         66876,
         11750,
         "2019-12-01",
         "453211******4482",
         "extra"
        ],
        [
         66876,
         11750,
         "2019-12-01",
         "453211******4310",
         "extra"
        ],
        [
         49919,
         11858,
         "2019-11-09",
         "498406******4794",
         "low"
        ],
        [
         15950,
         12678,
         "2019-11-30",
         "515743******4883",
         "low"
        ],
        [
         15950,
         12678,
         "2019-11-30",
         "515743******4883",
         "low"
        ],
        [
         12745,
         12756,
         "2019-11-26",
         "553636******4689",
         "low"
        ],
        [
         91972,
         13793,
         "2019-11-10",
         "476331******1570",
         "low"
        ],
        [
         36700,
         16644,
         "2019-11-22",
         "553636******6346",
         "low"
        ],
        [
         76725,
         16781,
         "2019-11-04",
         "546056******2924",
         "low"
        ],
        [
         42356,
         16862,
         "2019-11-27",
         "530994******6025",
         "low"
        ],
        [
         42356,
         16862,
         "2019-11-27",
         "530994******6025",
         "low"
        ],
        [
         38337,
         17507,
         "2019-11-22",
         "498406******9615",
         "low"
        ],
        [
         81795,
         17807,
         "2019-11-28",
         "606282******9552",
         "low"
        ],
        [
         81795,
         17807,
         "2019-11-28",
         "606282******9552",
         "low"
        ],
        [
         81795,
         17807,
         "2019-11-30",
         "606282******2612",
         "low"
        ],
        [
         81795,
         17807,
         "2019-11-30",
         "606282******2612",
         "low"
        ],
        [
         75917,
         17929,
         "2019-11-22",
         "606282******5292",
         "low"
        ],
        [
         75917,
         17929,
         "2019-11-22",
         "606282******4778",
         "low"
        ],
        [
         75917,
         17929,
         "2019-11-23",
         "606282******4736",
         "low"
        ],
        [
         75917,
         17929,
         "2019-11-23",
         "606282******3253",
         "low"
        ],
        [
         60526,
         17929,
         "2019-11-28",
         "606282******9429",
         "low"
        ],
        [
         60526,
         17929,
         "2019-11-28",
         "606282******6426",
         "low"
        ],
        [
         62052,
         18227,
         "2019-11-04",
         "550209******3098",
         "mid"
        ],
        [
         62052,
         18227,
         "2019-11-04",
         "550209******3098",
         "mid"
        ],
        [
         62052,
         18227,
         "2019-11-04",
         "550209******3098",
         "mid"
        ],
        [
         1017,
         19199,
         "2019-11-22",
         "455181******8021",
         "low"
        ],
        [
         73271,
         19440,
         "2019-11-28",
         "530994******1976",
         "low"
        ],
        [
         41354,
         19820,
         "2019-11-02",
         "606282******6581",
         "mid"
        ],
        [
         41354,
         19820,
         "2019-11-02",
         "606282******6581",
         "mid"
        ],
        [
         41354,
         19820,
         "2019-11-02",
         "606282******6581",
         "mid"
        ],
        [
         15326,
         21233,
         "2019-11-29",
         "606282******2822",
         "low"
        ],
        [
         15326,
         21233,
         "2019-11-29",
         "606282******2822",
         "low"
        ],
        [
         91972,
         21702,
         "2019-11-12",
         "534520******2126",
         "low"
        ],
        [
         91972,
         21702,
         "2019-11-13",
         "511781******4265",
         "low"
        ],
        [
         44927,
         21768,
         "2019-11-30",
         "530034******3859",
         "mid"
        ],
        [
         44927,
         21768,
         "2019-11-30",
         "530034******3859",
         "mid"
        ],
        [
         44927,
         21768,
         "2019-11-30",
         "530034******3859",
         "mid"
        ],
        [
         44927,
         21768,
         "2019-11-30",
         "530034******3859",
         "mid"
        ],
        [
         67764,
         21768,
         "2019-12-01",
         "530034******3859",
         "low"
        ],
        [
         67764,
         21768,
         "2019-12-01",
         "530034******3859",
         "low"
        ],
        [
         29744,
         23429,
         "2019-11-30",
         "455183******5202",
         "low"
        ],
        [
         35917,
         23916,
         "2019-11-23",
         "536380******8110",
         "low"
        ],
        [
         8942,
         24027,
         "2019-11-03",
         "406669******8126",
         "low"
        ],
        [
         11911,
         24543,
         "2019-11-22",
         "550209******4447",
         "low"
        ],
        [
         11911,
         24543,
         "2019-11-22",
         "550209******4447",
         "low"
        ],
        [
         91972,
         24644,
         "2019-11-26",
         "650486******2500",
         "low"
        ],
        [
         72723,
         26251,
         "2019-12-01",
         "530034******4649",
         "low"
        ],
        [
         72723,
         26251,
         "2019-12-01",
         "530034******4649",
         "low"
        ],
        [
         44927,
         27555,
         "2019-11-24",
         "530034******8258",
         "mid"
        ],
        [
         44927,
         27555,
         "2019-11-24",
         "530034******8258",
         "mid"
        ],
        [
         44927,
         27555,
         "2019-11-24",
         "530034******8258",
         "mid"
        ],
        [
         44927,
         27555,
         "2019-11-27",
         "530034******8258",
         "low"
        ],
        [
         49919,
         27657,
         "2019-11-10",
         "490172******7226",
         "low"
        ],
        [
         36700,
         27657,
         "2019-11-21",
         "544731******5895",
         "low"
        ],
        [
         36700,
         27657,
         "2019-11-21",
         "606282******1135",
         "low"
        ],
        [
         36700,
         27657,
         "2019-11-22",
         "549167******2904",
         "low"
        ],
        [
         97291,
         27779,
         "2019-11-29",
         "606282******8620",
         "low"
        ],
        [
         97291,
         27779,
         "2019-11-29",
         "606282******8620",
         "low"
        ],
        [
         45399,
         27987,
         "2019-11-19",
         "606282******8059",
         "low"
        ],
        [
         53041,
         28218,
         "2019-11-18",
         "528392******8943",
         "low"
        ],
        [
         53041,
         28218,
         "2019-11-19",
         "498406******7104",
         "low"
        ],
        [
         53041,
         28218,
         "2019-11-20",
         "498406******7104",
         "low"
        ],
        [
         53041,
         28218,
         "2019-11-20",
         "498406******7104",
         "low"
        ],
        [
         53041,
         28218,
         "2019-11-21",
         "498406******7104",
         "low"
        ],
        [
         25932,
         30874,
         "2019-11-08",
         "537110******2022",
         "low"
        ],
        [
         25932,
         30874,
         "2019-11-08",
         "537110******2022",
         "low"
        ],
        [
         25932,
         30874,
         "2019-11-09",
         "498406******2381",
         "low"
        ],
        [
         25932,
         30874,
         "2019-11-09",
         "546056******8910",
         "low"
        ],
        [
         52897,
         31819,
         "2019-11-22",
         "422005******9082",
         "mid"
        ],
        [
         52897,
         31819,
         "2019-11-22",
         "422005******9082",
         "mid"
        ],
        [
         52897,
         31819,
         "2019-11-22",
         "422005******9082",
         "mid"
        ],
        [
         5404,
         31867,
         "2019-11-30",
         "536537******6127",
         "low"
        ],
        [
         25473,
         33805,
         "2019-11-22",
         "530033******4225",
         "low"
        ],
        [
         65241,
         35138,
         "2019-11-21",
         "549167******8109",
         "low"
        ],
        [
         65241,
         35138,
         "2019-11-22",
         "549167******8109",
         "low"
        ],
        [
         55854,
         37113,
         "2019-11-27",
         "543882******5366",
         "low"
        ],
        [
         55854,
         37113,
         "2019-11-27",
         "543882******5366",
         "low"
        ],
        [
         7535,
         38734,
         "2019-11-19",
         "523421******3665",
         "low"
        ],
        [
         91972,
         38890,
         "2019-11-21",
         "530780******1934",
         "low"
        ],
        [
         9292,
         39334,
         "2019-11-21",
         "553665******7590",
         "low"
        ],
        [
         48912,
         39443,
         "2019-11-30",
         "545462******7215",
         "low"
        ],
        [
         38337,
         40493,
         "2019-11-22",
         "650727******5418",
         "mid"
        ],
        [
         38337,
         40493,
         "2019-11-22",
         "650727******5418",
         "mid"
        ],
        [
         38337,
         40493,
         "2019-11-22",
         "650727******5418",
         "mid"
        ],
        [
         49919,
         40595,
         "2019-11-09",
         "498401******4043",
         "low"
        ],
        [
         35917,
         41281,
         "2019-11-23",
         "412177******1380",
         "low"
        ],
        [
         77130,
         42677,
         "2019-11-08",
         "515601******8618",
         "mid"
        ],
        [
         77130,
         42677,
         "2019-11-08",
         "515601******8618",
         "mid"
        ],
        [
         77130,
         42677,
         "2019-11-08",
         "515601******8618",
         "mid"
        ],
        [
         11570,
         43018,
         "2019-11-30",
         "550209******5242",
         "low"
        ],
        [
         96692,
         43108,
         "2019-11-22",
         "541555******6900",
         "low"
        ],
        [
         49919,
         43913,
         "2019-11-15",
         "406655******5230",
         "low"
        ],
        [
         99644,
         44494,
         "2019-11-30",
         "546056******9897",
         "low"
        ],
        [
         54603,
         44531,
         "2019-11-23",
         "530034******2277",
         "mid"
        ],
        [
         54603,
         44531,
         "2019-11-23",
         "530034******7995",
         "mid"
        ],
        [
         18344,
         44531,
         "2019-11-23",
         "530034******7995",
         "mid"
        ],
        [
         84902,
         45031,
         "2019-11-22",
         "531681******2003",
         "low"
        ],
        [
         5533,
         45420,
         "2019-11-30",
         "527497******7790",
         "low"
        ],
        [
         23722,
         47604,
         "2019-11-30",
         "498453******9455",
         "low"
        ],
        [
         23722,
         47604,
         "2019-11-30",
         "498453******9455",
         "low"
        ],
        [
         29214,
         50643,
         "2019-11-29",
         "490172******3386",
         "low"
        ],
        [
         29214,
         50643,
         "2019-11-29",
         "490172******3386",
         "low"
        ],
        [
         29214,
         50643,
         "2019-11-30",
         "515590******8206",
         "low"
        ],
        [
         29214,
         50643,
         "2019-11-30",
         "515590******8206",
         "low"
        ],
        [
         23017,
         50699,
         "2019-11-11",
         "553636******6491",
         "low"
        ],
        [
         83142,
         50734,
         "2019-11-30",
         "606282******1705",
         "low"
        ],
        [
         3531,
         52129,
         "2019-11-30",
         "544731******8590",
         "low"
        ],
        [
         3531,
         52129,
         "2019-11-30",
         "544731******8590",
         "low"
        ],
        [
         55854,
         53850,
         "2019-11-27",
         "527468******1757",
         "mid"
        ],
        [
         55854,
         53850,
         "2019-11-27",
         "527468******1757",
         "mid"
        ],
        [
         55854,
         53850,
         "2019-11-27",
         "527468******1757",
         "mid"
        ],
        [
         48126,
         55630,
         "2019-11-29",
         "421960******7769",
         "mid"
        ],
        [
         48126,
         55630,
         "2019-11-29",
         "421960******7769",
         "mid"
        ],
        [
         48126,
         55630,
         "2019-11-29",
         "421960******7769",
         "mid"
        ],
        [
         60779,
         56139,
         "2019-11-22",
         "412177******4129",
         "low"
        ],
        [
         60779,
         56139,
         "2019-11-22",
         "412177******4129",
         "low"
        ],
        [
         99510,
         56877,
         "2019-11-30",
         "441030******2146",
         "high"
        ],
        [
         99510,
         56877,
         "2019-11-30",
         "441030******2146",
         "high"
        ],
        [
         99510,
         56877,
         "2019-11-30",
         "441030******2146",
         "high"
        ],
        [
         99510,
         56877,
         "2019-11-30",
         "406655******8217",
         "high"
        ],
        [
         99510,
         56877,
         "2019-11-30",
         "441030******2146",
         "high"
        ],
        [
         65241,
         57127,
         "2019-11-23",
         "530049******7829",
         "low"
        ],
        [
         53041,
         57594,
         "2019-11-18",
         "544570******2897",
         "low"
        ],
        [
         65330,
         58709,
         "2019-11-20",
         "439027******4670",
         "low"
        ],
        [
         53041,
         58905,
         "2019-11-19",
         "459080******2870",
         "low"
        ],
        [
         53041,
         58905,
         "2019-11-20",
         "459080******2870",
         "low"
        ],
        [
         53041,
         58905,
         "2019-11-22",
         "459080******2870",
         "low"
        ],
        [
         53041,
         58905,
         "2019-11-22",
         "459080******2870",
         "low"
        ],
        [
         63050,
         59418,
         "2019-11-30",
         "606282******4880",
         "low"
        ],
        [
         91972,
         60263,
         "2019-11-11",
         "230650******5729",
         "low"
        ],
        [
         8787,
         61047,
         "2019-11-22",
         "498408******2390",
         "low"
        ],
        [
         81894,
         61415,
         "2019-11-21",
         "606282******9701",
         "low"
        ],
        [
         62613,
         62888,
         "2019-11-23",
         "530034******4836",
         "low"
        ],
        [
         46609,
         63582,
         "2019-11-28",
         "523421******3223",
         "low"
        ],
        [
         18344,
         64057,
         "2019-11-22",
         "553636******5642",
         "low"
        ],
        [
         71507,
         65935,
         "2019-11-21",
         "498407******6521",
         "low"
        ],
        [
         71507,
         65935,
         "2019-11-21",
         "548984******5486",
         "low"
        ],
        [
         5252,
         66643,
         "2019-11-28",
         "498407******6947",
         "low"
        ],
        [
         15326,
         66979,
         "2019-11-29",
         "606282******6780",
         "low"
        ],
        [
         15326,
         66979,
         "2019-11-30",
         "545368******6282",
         "low"
        ],
        [
         15326,
         66979,
         "2019-11-30",
         "545368******6282",
         "low"
        ],
        [
         39253,
         67519,
         "2019-11-23",
         "406655******3711",
         "mid"
        ],
        [
         39253,
         67519,
         "2019-11-23",
         "406655******4190",
         "mid"
        ],
        [
         39253,
         67519,
         "2019-11-23",
         "406655******7191",
         "mid"
        ],
        [
         39253,
         67519,
         "2019-11-23",
         "406655******8770",
         "mid"
        ],
        [
         21281,
         67845,
         "2019-11-28",
         "490172******6404",
         "low"
        ],
        [
         18768,
         68191,
         "2019-11-29",
         "606282******2241",
         "low"
        ],
        [
         2842,
         69466,
         "2019-11-23",
         "536805******1909",
         "low"
        ],
        [
         76239,
         69466,
         "2019-11-23",
         "498406******3598",
         "low"
        ],
        [
         48982,
         69588,
         "2019-11-21",
         "542976******1627",
         "low"
        ],
        [
         4153,
         69588,
         "2019-11-29",
         "552640******7443",
         "mid"
        ],
        [
         4153,
         69588,
         "2019-11-29",
         "552640******7443",
         "mid"
        ],
        [
         4153,
         69588,
         "2019-11-29",
         "552640******7443",
         "mid"
        ],
        [
         68657,
         69758,
         "2019-12-01",
         "464296******3991",
         "low"
        ],
        [
         56977,
         69758,
         "2019-12-01",
         "464296******3991",
         "low"
        ],
        [
         70899,
         69973,
         "2019-11-07",
         "406655******3848",
         "low"
        ],
        [
         49919,
         70457,
         "2019-11-10",
         "515590******8323",
         "low"
        ],
        [
         53041,
         70465,
         "2019-11-22",
         "412177******9154",
         "low"
        ],
        [
         97291,
         70557,
         "2019-11-29",
         "545368******7205",
         "low"
        ],
        [
         97291,
         70557,
         "2019-11-29",
         "545368******7205",
         "low"
        ],
        [
         29214,
         71424,
         "2019-11-28",
         "490172******3386",
         "mid"
        ],
        [
         29214,
         71424,
         "2019-11-28",
         "490172******9947",
         "mid"
        ],
        [
         29214,
         71424,
         "2019-11-28",
         "490172******9947",
         "mid"
        ],
        [
         29214,
         71424,
         "2019-11-29",
         "470598******8612",
         "low"
        ],
        [
         29214,
         71424,
         "2019-11-30",
         "470598******8612",
         "low"
        ],
        [
         99510,
         71433,
         "2019-11-27",
         "455187******2460",
         "low"
        ],
        [
         99510,
         71433,
         "2019-11-27",
         "455187******2460",
         "low"
        ],
        [
         49909,
         73385,
         "2019-11-29",
         "553636******3778",
         "low"
        ],
        [
         49909,
         73385,
         "2019-11-29",
         "553636******8798",
         "low"
        ],
        [
         49909,
         73385,
         "2019-11-30",
         "406669******5822",
         "low"
        ],
        [
         5533,
         73867,
         "2019-11-30",
         "430535******9122",
         "low"
        ],
        [
         4694,
         74844,
         "2019-11-30",
         "606282******1353",
         "low"
        ],
        [
         77130,
         75710,
         "2019-11-08",
         "554482******7640",
         "extra"
        ],
        [
         77130,
         75710,
         "2019-11-08",
         "554482******7640",
         "extra"
        ],
        [
         77130,
         75710,
         "2019-11-08",
         "554482******7640",
         "extra"
        ],
        [
         77130,
         75710,
         "2019-11-08",
         "554482******7640",
         "extra"
        ],
        [
         77130,
         75710,
         "2019-11-08",
         "554482******7640",
         "extra"
        ],
        [
         77130,
         75710,
         "2019-11-08",
         "554482******7640",
         "extra"
        ],
        [
         77130,
         75710,
         "2019-11-08",
         "554482******7640",
         "extra"
        ],
        [
         77130,
         75710,
         "2019-11-09",
         "554482******7640",
         "mid"
        ],
        [
         77130,
         75710,
         "2019-11-09",
         "554482******7640",
         "mid"
        ],
        [
         77130,
         75710,
         "2019-11-09",
         "554482******7640",
         "mid"
        ],
        [
         77570,
         75889,
         "2019-11-01",
         "527496******2850",
         "low"
        ],
        [
         77570,
         75889,
         "2019-11-06",
         "406168******2582",
         "low"
        ],
        [
         42356,
         76422,
         "2019-11-27",
         "498408******4290",
         "low"
        ],
        [
         42356,
         76422,
         "2019-11-27",
         "498408******4290",
         "low"
        ],
        [
         18344,
         76768,
         "2019-11-23",
         "530034******8134",
         "mid"
        ],
        [
         54603,
         76768,
         "2019-11-23",
         "530034******8352",
         "mid"
        ],
        [
         18344,
         76768,
         "2019-11-23",
         "530034******2483",
         "mid"
        ],
        [
         8942,
         76819,
         "2019-11-03",
         "552289******8870",
         "mid"
        ],
        [
         8942,
         76819,
         "2019-11-03",
         "552289******8870",
         "mid"
        ],
        [
         8942,
         76819,
         "2019-11-03",
         "552289******8870",
         "mid"
        ],
        [
         8942,
         76819,
         "2019-11-03",
         "552289******8870",
         "mid"
        ],
        [
         73205,
         77999,
         "2019-11-28",
         "498408******5158",
         "low"
        ],
        [
         49919,
         78262,
         "2019-11-15",
         "514868******3935",
         "low"
        ],
        [
         49919,
         78262,
         "2019-11-17",
         "498401******7580",
         "low"
        ],
        [
         65330,
         78262,
         "2019-11-18",
         "515590******4614",
         "low"
        ],
        [
         65330,
         78262,
         "2019-11-20",
         "406655******6489",
         "low"
        ],
        [
         65330,
         78262,
         "2019-11-22",
         "553636******3478",
         "low"
        ],
        [
         65330,
         78262,
         "2019-11-22",
         "553636******6676",
         "low"
        ],
        [
         65330,
         78262,
         "2019-11-24",
         "553636******4313",
         "low"
        ],
        [
         59875,
         78262,
         "2019-11-25",
         "553636******6300",
         "high"
        ],
        [
         65330,
         78262,
         "2019-11-25",
         "553636******6300",
         "high"
        ],
        [
         59875,
         78262,
         "2019-11-25",
         "553636******6301",
         "high"
        ],
        [
         65330,
         78262,
         "2019-11-25",
         "553636******6301",
         "high"
        ],
        [
         59875,
         78262,
         "2019-11-25",
         "553636******4313",
         "high"
        ],
        [
         36617,
         79054,
         "2019-11-28",
         "406655******6040",
         "extra"
        ],
        [
         36617,
         79054,
         "2019-11-28",
         "406655******6347",
         "extra"
        ],
        [
         18267,
         79054,
         "2019-11-28",
         "406655******1129",
         "extra"
        ],
        [
         18267,
         79054,
         "2019-11-28",
         "406655******3462",
         "extra"
        ],
        [
         98272,
         79054,
         "2019-11-28",
         "406655******9249",
         "extra"
        ],
        [
         18267,
         79054,
         "2019-11-28",
         "406655******2259",
         "extra"
        ],
        [
         98272,
         79054,
         "2019-11-28",
         "406655******6628",
         "extra"
        ],
        [
         98272,
         79054,
         "2019-11-28",
         "406655******6027",
         "extra"
        ],
        [
         1308,
         79054,
         "2019-11-29",
         "406655******7343",
         "extra"
        ],
        [
         1308,
         79054,
         "2019-11-29",
         "406655******7948",
         "extra"
        ],
        [
         1308,
         79054,
         "2019-11-29",
         "406655******5169",
         "extra"
        ],
        [
         1308,
         79054,
         "2019-11-29",
         "406655******5763",
         "extra"
        ],
        [
         1308,
         79054,
         "2019-11-29",
         "406655******7948",
         "extra"
        ],
        [
         36617,
         79054,
         "2019-11-29",
         "406655******7948",
         "extra"
        ],
        [
         36617,
         79054,
         "2019-11-29",
         "406655******4572",
         "extra"
        ],
        [
         73922,
         79237,
         "2019-11-27",
         "553096******5104",
         "low"
        ],
        [
         83982,
         79462,
         "2019-11-29",
         "498406******5873",
         "low"
        ],
        [
         72723,
         79998,
         "2019-11-30",
         "606282******2682",
         "low"
        ],
        [
         72723,
         79998,
         "2019-11-30",
         "606282******2682",
         "low"
        ],
        [
         92215,
         80769,
         "2019-11-30",
         "498406******3714",
         "low"
        ],
        [
         56107,
         81152,
         "2019-12-01",
         "650516******9201",
         "mid"
        ],
        [
         56107,
         81152,
         "2019-12-01",
         "650516******9201",
         "mid"
        ],
        [
         56107,
         81152,
         "2019-12-01",
         "650516******9201",
         "mid"
        ],
        [
         56107,
         81152,
         "2019-12-01",
         "650516******7004",
         "mid"
        ],
        [
         73271,
         81164,
         "2019-11-28",
         "516292******8508",
         "low"
        ],
        [
         73271,
         81164,
         "2019-11-30",
         "606282******450",
         "low"
        ],
        [
         54572,
         81642,
         "2019-11-21",
         "552530******3548",
         "low"
        ],
        [
         48982,
         83258,
         "2019-11-22",
         "528392******9724",
         "low"
        ],
        [
         5763,
         83258,
         "2019-11-23",
         "410424******5129",
         "low"
        ],
        [
         4153,
         83258,
         "2019-11-29",
         "485464******3595",
         "low"
        ],
        [
         20663,
         83722,
         "2019-11-23",
         "498406******9651",
         "low"
        ],
        [
         20663,
         83722,
         "2019-11-25",
         "606282******5785",
         "mid"
        ],
        [
         20663,
         83722,
         "2019-11-25",
         "606282******5785",
         "mid"
        ],
        [
         20663,
         83722,
         "2019-11-25",
         "606282******5785",
         "mid"
        ],
        [
         25199,
         83826,
         "2019-11-21",
         "650486******4290",
         "low"
        ],
        [
         36700,
         84071,
         "2019-11-22",
         "515117******8659",
         "low"
        ],
        [
         90035,
         85612,
         "2019-11-26",
         "412177******1138",
         "low"
        ],
        [
         94053,
         85897,
         "2019-11-19",
         "541555******2603",
         "low"
        ],
        [
         3109,
         86219,
         "2019-11-27",
         "606282******9980",
         "low"
        ],
        [
         89943,
         86411,
         "2019-11-21",
         "651653******2256",
         "low"
        ],
        [
         89943,
         86411,
         "2019-11-22",
         "651653******2256",
         "low"
        ],
        [
         89943,
         86411,
         "2019-11-23",
         "651653******2256",
         "low"
        ],
        [
         89943,
         86411,
         "2019-11-24",
         "651653******2256",
         "low"
        ],
        [
         89943,
         86411,
         "2019-11-27",
         "651653******2256",
         "low"
        ],
        [
         44927,
         87048,
         "2019-11-30",
         "530034******2579",
         "mid"
        ],
        [
         44927,
         87048,
         "2019-11-30",
         "530034******2579",
         "mid"
        ],
        [
         44927,
         87048,
         "2019-11-30",
         "530034******9719",
         "mid"
        ],
        [
         67075,
         89064,
         "2019-11-26",
         "506778******7321",
         "low"
        ],
        [
         91446,
         89615,
         "2019-11-26",
         "444456******5431",
         "low"
        ],
        [
         91446,
         89615,
         "2019-11-28",
         "485464******8424",
         "low"
        ],
        [
         91446,
         89615,
         "2019-11-28",
         "444456******7890",
         "low"
        ],
        [
         73205,
         90144,
         "2019-11-30",
         "553096******1741",
         "low"
        ],
        [
         81795,
         90176,
         "2019-12-01",
         "545368******9514",
         "low"
        ],
        [
         81795,
         90176,
         "2019-12-01",
         "545368******9514",
         "low"
        ],
        [
         84970,
         90182,
         "2019-12-01",
         "464296******3991",
         "low"
        ],
        [
         4705,
         91637,
         "2019-11-21",
         "496045******1160",
         "low"
        ],
        [
         4705,
         91637,
         "2019-11-21",
         "558763******7319",
         "low"
        ],
        [
         4705,
         91637,
         "2019-11-22",
         "530033******3319",
         "mid"
        ],
        [
         4705,
         91637,
         "2019-11-22",
         "530033******6050",
         "mid"
        ],
        [
         4705,
         91637,
         "2019-11-22",
         "530033******9840",
         "mid"
        ],
        [
         4705,
         91637,
         "2019-11-22",
         "415274******7114",
         "mid"
        ],
        [
         4705,
         91637,
         "2019-11-23",
         "498401******4982",
         "high"
        ],
        [
         4705,
         91637,
         "2019-11-23",
         "415274******7113",
         "high"
        ],
        [
         4705,
         91637,
         "2019-11-23",
         "530034******4416",
         "high"
        ],
        [
         4705,
         91637,
         "2019-11-23",
         "530033******3010",
         "high"
        ],
        [
         4705,
         91637,
         "2019-11-23",
         "530034******3802",
         "high"
        ],
        [
         4705,
         91637,
         "2019-11-26",
         "554906******8297",
         "low"
        ],
        [
         4705,
         91637,
         "2019-11-26",
         "554927******7403",
         "low"
        ],
        [
         4705,
         91637,
         "2019-11-27",
         "515590******3621",
         "low"
        ],
        [
         4705,
         91637,
         "2019-11-27",
         "515590******4661",
         "low"
        ],
        [
         4705,
         91637,
         "2019-11-28",
         "406655******2189",
         "low"
        ],
        [
         4705,
         91637,
         "2019-11-29",
         "406655******7631",
         "mid"
        ],
        [
         4705,
         91637,
         "2019-11-29",
         "490172******1626",
         "mid"
        ],
        [
         4705,
         91637,
         "2019-11-29",
         "489391******6735",
         "mid"
        ],
        [
         82867,
         92034,
         "2019-11-23",
         "459315******9675",
         "low"
        ],
        [
         82867,
         92034,
         "2019-11-23",
         "459315******9675",
         "low"
        ],
        [
         4153,
         92034,
         "2019-11-29",
         "498442******7462",
         "low"
        ],
        [
         48126,
         92259,
         "2019-11-28",
         "406669******1721",
         "low"
        ],
        [
         48126,
         92259,
         "2019-11-28",
         "406669******1721",
         "low"
        ],
        [
         48126,
         92259,
         "2019-11-29",
         "406669******1721",
         "low"
        ],
        [
         75917,
         92930,
         "2019-11-21",
         "606282******9364",
         "low"
        ],
        [
         75917,
         92930,
         "2019-11-22",
         "606282******9364",
         "low"
        ],
        [
         62988,
         93156,
         "2019-11-22",
         "553636******5244",
         "low"
        ],
        [
         62988,
         93156,
         "2019-11-22",
         "406168******6228",
         "low"
        ],
        [
         23531,
         93679,
         "2019-11-29",
         "515590******820",
         "low"
        ],
        [
         91352,
         93767,
         "2019-11-26",
         "428267******4035",
         "low"
        ],
        [
         13096,
         93767,
         "2019-11-28",
         "428267******4035",
         "low"
        ],
        [
         83142,
         95694,
         "2019-11-30",
         "498401******2440",
         "low"
        ],
        [
         18267,
         96025,
         "2019-11-28",
         "406655******2133",
         "mid"
        ],
        [
         18267,
         96025,
         "2019-11-28",
         "406655******5812",
         "mid"
        ],
        [
         18267,
         96025,
         "2019-11-28",
         "406655******4332",
         "mid"
        ],
        [
         1308,
         96025,
         "2019-11-29",
         "406655******4980",
         "extra"
        ],
        [
         1308,
         96025,
         "2019-11-29",
         "406655******7343",
         "extra"
        ],
        [
         1308,
         96025,
         "2019-11-29",
         "406655******7343",
         "extra"
        ],
        [
         1308,
         96025,
         "2019-11-29",
         "406655******4980",
         "extra"
        ],
        [
         1308,
         96025,
         "2019-11-29",
         "406655******5764",
         "extra"
        ],
        [
         1308,
         96025,
         "2019-11-29",
         "406655******5764",
         "extra"
        ],
        [
         1308,
         96025,
         "2019-11-29",
         "406655******4572",
         "extra"
        ],
        [
         1308,
         96025,
         "2019-11-29",
         "406655******5764",
         "extra"
        ],
        [
         1308,
         96025,
         "2019-11-29",
         "406655******4608",
         "extra"
        ],
        [
         1308,
         96025,
         "2019-11-29",
         "406655******5763",
         "extra"
        ],
        [
         16266,
         96495,
         "2019-11-01",
         "522840******2045",
         "low"
        ],
        [
         16266,
         96495,
         "2019-11-01",
         "552305******4782",
         "low"
        ],
        [
         74450,
         96576,
         "2019-11-20",
         "525320******4631",
         "low"
        ],
        [
         91972,
         96972,
         "2019-11-20",
         "544731******6031",
         "low"
        ],
        [
         1175,
         96976,
         "2019-11-23",
         "412177******2190",
         "low"
        ],
        [
         11973,
         97150,
         "2019-11-16",
         "474512******8396",
         "low"
        ],
        [
         91972,
         97611,
         "2019-11-14",
         "230744******950",
         "low"
        ],
        [
         91972,
         97611,
         "2019-11-30",
         "410863******3518",
         "low"
        ],
        [
         38568,
         99396,
         "2019-11-29",
         "524703******3515",
         "low"
        ],
        [
         38568,
         99396,
         "2019-11-29",
         "606282******6990",
         "low"
        ],
        [
         38568,
         99396,
         "2019-11-30",
         "536380******6214",
         "mid"
        ],
        [
         38568,
         99396,
         "2019-11-30",
         "412177******2318",
         "mid"
        ],
        [
         38568,
         99396,
         "2019-11-30",
         "422100******2853",
         "mid"
        ],
        [
         91972,
         99876,
         "2019-11-23",
         "511588******6999",
         "low"
        ]
       ],
       "datasetInfos": [],
       "dbfsResultPath": null,
       "isJsonSchema": true,
       "metadata": {},
       "overflow": false,
       "plotOptions": {
        "customPlotOptions": {},
        "displayType": "table",
        "pivotAggregation": null,
        "pivotColumns": null,
        "xColumns": null,
        "yColumns": null
       },
       "removedWidgets": [],
       "schema": [
        {
         "metadata": "{}",
         "name": "merchant_id",
         "type": "\"long\""
        },
        {
         "metadata": "{}",
         "name": "user_id",
         "type": "\"long\""
        },
        {
         "metadata": "{}",
         "name": "transaction_date",
         "type": "\"date\""
        },
        {
         "metadata": "{}",
         "name": "card_number",
         "type": "\"string\""
        },
        {
         "metadata": "{}",
         "name": "range_alert_cards",
         "type": "\"string\""
        }
       ],
       "type": "table"
      }
     },
     "output_type": "display_data"
    },
    {
     "output_type": "display_data",
     "data": {
      "text/plain": [
       "Databricks visualization. Run in Databricks to view."
      ]
     },
     "metadata": {
      "application/vnd.databricks.v1.subcommand+json": {
       "bindings": {},
       "collapsed": false,
       "command": "%sql WITH q AS (with cte as (\nSELECT \n  merchant_id\n  ,user_id\n  ,DATE(transaction_date) \n  ,card_number \n  ,case \n    when count(card_number) over (partition by user_id, DATE(transaction_date)) <= 2 then 'low'\n    when  count(card_number) over (partition by user_id, DATE(transaction_date)) <=4 then 'mid'\n    when  count(card_number) over (partition by user_id, DATE(transaction_date)) <= 5 then 'high'\n    when  count(card_number) over (partition by user_id, DATE(transaction_date)) >=6 then 'extra'\n    end range_alert_cards   \nFROM \n  transactions\n  where 1=1\n  and has_cbk = 'true'\n\n)\n  select\n    *\n  from cte\n  where 1=1) SELECT `merchant_id`,`user_id`,COUNT(DISTINCT `range_alert_cards`) `column_31250dc713` FROM q GROUP BY `merchant_id`,`user_id`",
       "commandTitle": "Visualization 1",
       "commandType": "auto",
       "commandVersion": 0,
       "commentThread": [],
       "commentsVisible": false,
       "contentSha256Hex": null,
       "customPlotOptions": {
        "redashChart": [
         {
          "key": "type",
          "value": "CHART"
         },
         {
          "key": "options",
          "value": {
           "alignYAxesAtZero": true,
           "coefficient": 1,
           "columnConfigurationMap": {
            "x": {
             "column": "merchant_id",
             "id": "column_31250dc714"
            },
            "y": [
             {
              "column": "user_id",
              "id": "column_31250dc715"
             }
            ],
            "zVal": {
             "column": "range_alert_cards",
             "id": "column_31250dc713",
             "transform": "COUNT_DISTINCT"
            }
           },
           "dateTimeFormat": "DD/MM/YYYY HH:mm",
           "direction": {
            "type": "counterclockwise"
           },
           "error_y": {
            "type": "data",
            "visible": true
           },
           "globalSeriesType": "heatmap",
           "isAggregationOn": true,
           "legend": {
            "traceorder": "normal"
           },
           "missingValuesAsZero": true,
           "numberFormat": "0,0[.]00000",
           "percentFormat": "0[.]00%",
           "series": {
            "error_y": {
             "type": "data",
             "visible": true
            },
            "stacking": null
           },
           "seriesOptions": {
            "column_31250dc711": {
             "type": "heatmap",
             "yAxis": 0
            },
            "column_31250dc715": {
             "type": "heatmap",
             "yAxis": 0
            },
            "column_31250dc79": {
             "type": "heatmap",
             "yAxis": 0
            }
           },
           "showDataLabels": false,
           "sizemode": "diameter",
           "sortX": true,
           "sortY": true,
           "swappedAxes": false,
           "textFormat": "",
           "useAggregationsUi": true,
           "valuesOptions": {},
           "version": 2,
           "xAxis": {
            "labels": {
             "enabled": true
            },
            "type": "-"
           },
           "yAxis": [
            {
             "type": "category"
            },
            {
             "opposite": true,
             "type": "-"
            }
           ]
          }
         }
        ]
       },
       "datasetPreviewNameToCmdIdMap": {},
       "diffDeletes": [],
       "diffInserts": [],
       "displayType": "redashChart",
       "error": null,
       "errorSummary": null,
       "errorTraceType": null,
       "finishTime": 0,
       "globalVars": {},
       "guid": "0780f21a-b6da-4b1c-afcf-4edb3fb328a9",
       "height": "750",
       "hideCommandCode": false,
       "hideCommandResult": false,
       "iPythonMetadata": null,
       "inputWidgets": {},
       "isLockedInExamMode": false,
       "latestUser": "a user",
       "latestUserId": null,
       "listResultMetadata": null,
       "metadata": {
        "byteLimit": 2048000,
        "implicitDf": true,
        "rowLimit": 10000
       },
       "nuid": "d70a2cd5-e93a-4366-885f-fa6aad6ce768",
       "origId": 2940395178927844,
       "parentHierarchy": [
        "ee304e48-58fa-4957-9d73-f582ac30cae8"
       ],
       "pivotAggregation": null,
       "pivotColumns": null,
       "position": 18.5,
       "resultDbfsErrorMessage": null,
       "resultDbfsStatus": "INLINED_IN_TREE",
       "results": null,
       "showCommandTitle": false,
       "startTime": 0,
       "state": "finished",
       "streamStates": {},
       "subcommandOptions": {
        "queryPlan": {
         "groups": [
          {
           "column": "merchant_id",
           "type": "column"
          },
          {
           "column": "user_id",
           "type": "column"
          }
         ],
         "selects": [
          {
           "column": "merchant_id",
           "type": "column"
          },
          {
           "column": "user_id",
           "type": "column"
          },
          {
           "alias": "column_31250dc713",
           "args": [
            {
             "column": "range_alert_cards",
             "type": "column"
            }
           ],
           "function": "COUNT_DISTINCT",
           "type": "function"
          }
         ]
        }
       },
       "submitTime": 0,
       "subtype": "tableResultSubCmd.visualization",
       "tableResultIndex": 0,
       "useConsistentColors": false,
       "version": "CommandV1",
       "width": "1126",
       "workflows": [],
       "xColumns": null,
       "yColumns": null
      }
     },
     "output_type": "display_data"
    }
   ],
   "source": [
    " %sql\n",
    "\n",
    "with cte as (\n",
    "SELECT \n",
    "  merchant_id\n",
    "  ,user_id\n",
    "  ,DATE(transaction_date) \n",
    "  ,card_number \n",
    "  ,case \n",
    "    when count(card_number) over (partition by user_id, DATE(transaction_date)) <= 2 then 'low'\n",
    "    when  count(card_number) over (partition by user_id, DATE(transaction_date)) <=4 then 'mid'\n",
    "    when  count(card_number) over (partition by user_id, DATE(transaction_date)) <= 5 then 'high'\n",
    "    when  count(card_number) over (partition by user_id, DATE(transaction_date)) >=6 then 'extra'\n",
    "    end range_alert_cards   \n",
    "FROM \n",
    "  transactions\n",
    "  where 1=1\n",
    "  and has_cbk = 'true'\n",
    "\n",
    ")\n",
    "  select\n",
    "    *\n",
    "  from cte\n",
    "  where 1=1\n",
    "  --and merchant_id in (65330) -- \n",
    "  -- and user_id in (78262) -- HIGH EVEN IF USER PAYED ANOTHER MERCHANT.\n",
    "  --order by devices_perday desc\n",
    ";\n"
   ]
  },
  {
   "cell_type": "markdown",
   "metadata": {
    "application/vnd.databricks.v1+cell": {
     "cellMetadata": {
      "byteLimit": 2048000,
      "rowLimit": 10000
     },
     "inputWidgets": {},
     "nuid": "5eaa8839-e96b-4364-afe9-c6ae3c6f43d5",
     "showTitle": false,
     "title": ""
    }
   },
   "source": [
    "**Conclusão**\n",
    "\n",
    "Dados a considerar para melhoria da análise: \n",
    "- **Geolocalização do user_id**: a habilitação da localização durante uma transação traria uma possibilidade de averiguar se há um comportamento fraudulento como ATO, mobile theft, account sharing. Padrão de pagamento e local.\n",
    "- **Tipo de dispositivo**: Apple, Android -Se possível, modelo e marca. </br>Ao captar essas informações originais do user, seria avaliado o comportamento de troca de dispositivo ou mesmo a ocorrência de devide spoofing (ferramenta que gera software/hardware de um dispositivo para enganar).\n",
    "\n",
    "Sugestões: \n",
    "- Limitar a frequência de trocar de dispositivos por dia como forma preventiva.\n",
    "- Realizar análise individual do merchant caso receba valores fora do padrão e cumulativamente de user_ids com inserções elevadas de cartões para que possa haver uma restrição.\n",
    "- Restringir que o mesmo dispositivo seja utilizado por diversos user_ids ."
   ]
  }
 ],
 "metadata": {
  "application/vnd.databricks.v1+notebook": {
   "dashboards": [],
   "language": "python",
   "notebookMetadata": {
    "mostRecentlyExecutedCommandWithImplicitDF": {
     "commandId": 2629043615626786,
     "dataframes": [
      "_sqldf"
     ]
    },
    "pythonIndentUnit": 4
   },
   "notebookName": "*Transactions-Risk-Analysis",
   "widgets": {}
  }
 },
 "nbformat": 4,
 "nbformat_minor": 0
}
